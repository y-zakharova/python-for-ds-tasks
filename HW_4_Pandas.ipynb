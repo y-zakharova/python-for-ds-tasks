{
  "cells": [
    {
      "cell_type": "markdown",
      "id": "6bbb4b6a",
      "metadata": {
        "id": "6bbb4b6a"
      },
      "source": [
        "# Домашнє завдання до лекції 4: Pandas"
      ]
    },
    {
      "cell_type": "markdown",
      "id": "7ef4e602",
      "metadata": {
        "id": "7ef4e602"
      },
      "source": [
        "У цьому домашньому завданні ми працюємо з набором даних про продажі в різних магазинах мережі супермаркетів. Дані взяті з Kaggle, за [посиланням](https://www.kaggle.com/aungpyaeap/supermarket-sales) Ви можете знайти їх опис. Прочитати опис даних - хороша практика перед початком роботи, тож дуже раджу це зробити :)\n",
        "Дані були завантажені для Вас в папку `data/` на гугл диску, аби бути на 100% впевненими, що ви працюєте з тими даними, з якими працювала я, коли готувала завдання. Завантажте дані собі локально. Накраще це зробити в окрему директорію `/data` на вашому компʼютері. Дані ми не заливаємо зазвичай в git. Але для демонстрації своєї роботи їх  можна завантажити собі на гугл диск, дати доступ за посиланням і додати в гіт посилання на дані.\n",
        "\n",
        "У цьому домашньому завданні особливо важливо **уважно** читати формулювання завдання і всі коментарі.  \n",
        "В цьому домашньому завданні також треба по максимуму використовувати функціонал бібліотеки pandas, навіть якщо існують альтернативні способи зробити те самеь."
      ]
    },
    {
      "cell_type": "markdown",
      "id": "fd7f076b",
      "metadata": {
        "ExecuteTime": {
          "end_time": "2021-09-20T19:43:50.443031Z",
          "start_time": "2021-09-20T19:43:50.439600Z"
        },
        "id": "fd7f076b"
      },
      "source": [
        "1.За допомогою бібліотеки Pandas, викликом однієї функції зчитайте набір даних із файлу 'supermarket_sales.csv'."
      ]
    },
    {
      "cell_type": "code",
      "source": [
        "import pandas as pd\n",
        "import numpy as np\n",
        "import matplotlib.pyplot as plt"
      ],
      "metadata": {
        "id": "_btYlXo10wpB"
      },
      "id": "_btYlXo10wpB",
      "execution_count": 35,
      "outputs": []
    },
    {
      "cell_type": "code",
      "source": [
        "from google.colab import drive\n",
        "drive.mount('/content/drive')"
      ],
      "metadata": {
        "colab": {
          "base_uri": "https://localhost:8080/"
        },
        "id": "mYUoJ3Hw2Gpv",
        "outputId": "cc3f7321-8105-4a9b-9c3f-58c7786921b4"
      },
      "id": "mYUoJ3Hw2Gpv",
      "execution_count": 4,
      "outputs": [
        {
          "output_type": "stream",
          "name": "stdout",
          "text": [
            "Mounted at /content/drive\n"
          ]
        }
      ]
    },
    {
      "cell_type": "code",
      "source": [
        "supermarket_sales_df = pd.read_csv('drive/MyDrive/Python for Data Analysis/data/supermarket_sales.csv')"
      ],
      "metadata": {
        "id": "_eKCx6if069P"
      },
      "id": "_eKCx6if069P",
      "execution_count": 5,
      "outputs": []
    },
    {
      "cell_type": "markdown",
      "id": "ca064875",
      "metadata": {
        "ExecuteTime": {
          "end_time": "2021-09-20T19:44:56.499824Z",
          "start_time": "2021-09-20T19:44:56.496923Z"
        },
        "id": "ca064875"
      },
      "source": [
        "2.За допомогою бібліотеки Pandas виведіть перші 5 і останні 5 записів у наборі даних."
      ]
    },
    {
      "cell_type": "code",
      "source": [
        "supermarket_sales_df.head()"
      ],
      "metadata": {
        "colab": {
          "base_uri": "https://localhost:8080/",
          "height": 354
        },
        "id": "GaINVvByvWQG",
        "outputId": "6fcb5e05-8906-42a4-a60f-715f1dd6553c"
      },
      "id": "GaINVvByvWQG",
      "execution_count": 44,
      "outputs": [
        {
          "output_type": "execute_result",
          "data": {
            "text/plain": [
              "    Invoice ID Branch       City Customer type  Gender  \\\n",
              "0  750-67-8428      A     Yangon        Member  Female   \n",
              "1  226-31-3081      C  Naypyitaw        Normal  Female   \n",
              "2  631-41-3108      A     Yangon        Normal    Male   \n",
              "3  123-19-1176      A     Yangon        Member    Male   \n",
              "4  373-73-7910      A     Yangon        Normal    Male   \n",
              "\n",
              "             Product line  Unit price  Quantity   Tax 5%     Total       Date  \\\n",
              "0       Health and beauty       74.69         7  26.1415  548.9715   1/5/2019   \n",
              "1  Electronic accessories       15.28         5   3.8200   80.2200   3/8/2019   \n",
              "2      Home and lifestyle       46.33         7  16.2155  340.5255   3/3/2019   \n",
              "3       Health and beauty       58.22         8  23.2880  489.0480  1/27/2019   \n",
              "4       Sports and travel       86.31         7  30.2085  634.3785   2/8/2019   \n",
              "\n",
              "    Time      Payment    cogs  gross margin percentage  gross income  Rating  \\\n",
              "0  13:08      Ewallet  522.83                 4.761905       26.1415     9.1   \n",
              "1  10:29         Cash   76.40                 4.761905        3.8200     9.6   \n",
              "2  13:23  Credit card  324.31                 4.761905       16.2155     7.4   \n",
              "3  20:33      Ewallet  465.76                 4.761905       23.2880     8.4   \n",
              "4  10:37      Ewallet  604.17                 4.761905       30.2085     5.3   \n",
              "\n",
              "   Hour  Week_Day  \n",
              "0    13  Saturday  \n",
              "1    10    Friday  \n",
              "2    13    Sunday  \n",
              "3    20    Sunday  \n",
              "4    10    Friday  "
            ],
            "text/html": [
              "\n",
              "  <div id=\"df-986c4213-8560-4ce5-8690-90cf5d82b58e\">\n",
              "    <div class=\"colab-df-container\">\n",
              "      <div>\n",
              "<style scoped>\n",
              "    .dataframe tbody tr th:only-of-type {\n",
              "        vertical-align: middle;\n",
              "    }\n",
              "\n",
              "    .dataframe tbody tr th {\n",
              "        vertical-align: top;\n",
              "    }\n",
              "\n",
              "    .dataframe thead th {\n",
              "        text-align: right;\n",
              "    }\n",
              "</style>\n",
              "<table border=\"1\" class=\"dataframe\">\n",
              "  <thead>\n",
              "    <tr style=\"text-align: right;\">\n",
              "      <th></th>\n",
              "      <th>Invoice ID</th>\n",
              "      <th>Branch</th>\n",
              "      <th>City</th>\n",
              "      <th>Customer type</th>\n",
              "      <th>Gender</th>\n",
              "      <th>Product line</th>\n",
              "      <th>Unit price</th>\n",
              "      <th>Quantity</th>\n",
              "      <th>Tax 5%</th>\n",
              "      <th>Total</th>\n",
              "      <th>Date</th>\n",
              "      <th>Time</th>\n",
              "      <th>Payment</th>\n",
              "      <th>cogs</th>\n",
              "      <th>gross margin percentage</th>\n",
              "      <th>gross income</th>\n",
              "      <th>Rating</th>\n",
              "      <th>Hour</th>\n",
              "      <th>Week_Day</th>\n",
              "    </tr>\n",
              "  </thead>\n",
              "  <tbody>\n",
              "    <tr>\n",
              "      <th>0</th>\n",
              "      <td>750-67-8428</td>\n",
              "      <td>A</td>\n",
              "      <td>Yangon</td>\n",
              "      <td>Member</td>\n",
              "      <td>Female</td>\n",
              "      <td>Health and beauty</td>\n",
              "      <td>74.69</td>\n",
              "      <td>7</td>\n",
              "      <td>26.1415</td>\n",
              "      <td>548.9715</td>\n",
              "      <td>1/5/2019</td>\n",
              "      <td>13:08</td>\n",
              "      <td>Ewallet</td>\n",
              "      <td>522.83</td>\n",
              "      <td>4.761905</td>\n",
              "      <td>26.1415</td>\n",
              "      <td>9.1</td>\n",
              "      <td>13</td>\n",
              "      <td>Saturday</td>\n",
              "    </tr>\n",
              "    <tr>\n",
              "      <th>1</th>\n",
              "      <td>226-31-3081</td>\n",
              "      <td>C</td>\n",
              "      <td>Naypyitaw</td>\n",
              "      <td>Normal</td>\n",
              "      <td>Female</td>\n",
              "      <td>Electronic accessories</td>\n",
              "      <td>15.28</td>\n",
              "      <td>5</td>\n",
              "      <td>3.8200</td>\n",
              "      <td>80.2200</td>\n",
              "      <td>3/8/2019</td>\n",
              "      <td>10:29</td>\n",
              "      <td>Cash</td>\n",
              "      <td>76.40</td>\n",
              "      <td>4.761905</td>\n",
              "      <td>3.8200</td>\n",
              "      <td>9.6</td>\n",
              "      <td>10</td>\n",
              "      <td>Friday</td>\n",
              "    </tr>\n",
              "    <tr>\n",
              "      <th>2</th>\n",
              "      <td>631-41-3108</td>\n",
              "      <td>A</td>\n",
              "      <td>Yangon</td>\n",
              "      <td>Normal</td>\n",
              "      <td>Male</td>\n",
              "      <td>Home and lifestyle</td>\n",
              "      <td>46.33</td>\n",
              "      <td>7</td>\n",
              "      <td>16.2155</td>\n",
              "      <td>340.5255</td>\n",
              "      <td>3/3/2019</td>\n",
              "      <td>13:23</td>\n",
              "      <td>Credit card</td>\n",
              "      <td>324.31</td>\n",
              "      <td>4.761905</td>\n",
              "      <td>16.2155</td>\n",
              "      <td>7.4</td>\n",
              "      <td>13</td>\n",
              "      <td>Sunday</td>\n",
              "    </tr>\n",
              "    <tr>\n",
              "      <th>3</th>\n",
              "      <td>123-19-1176</td>\n",
              "      <td>A</td>\n",
              "      <td>Yangon</td>\n",
              "      <td>Member</td>\n",
              "      <td>Male</td>\n",
              "      <td>Health and beauty</td>\n",
              "      <td>58.22</td>\n",
              "      <td>8</td>\n",
              "      <td>23.2880</td>\n",
              "      <td>489.0480</td>\n",
              "      <td>1/27/2019</td>\n",
              "      <td>20:33</td>\n",
              "      <td>Ewallet</td>\n",
              "      <td>465.76</td>\n",
              "      <td>4.761905</td>\n",
              "      <td>23.2880</td>\n",
              "      <td>8.4</td>\n",
              "      <td>20</td>\n",
              "      <td>Sunday</td>\n",
              "    </tr>\n",
              "    <tr>\n",
              "      <th>4</th>\n",
              "      <td>373-73-7910</td>\n",
              "      <td>A</td>\n",
              "      <td>Yangon</td>\n",
              "      <td>Normal</td>\n",
              "      <td>Male</td>\n",
              "      <td>Sports and travel</td>\n",
              "      <td>86.31</td>\n",
              "      <td>7</td>\n",
              "      <td>30.2085</td>\n",
              "      <td>634.3785</td>\n",
              "      <td>2/8/2019</td>\n",
              "      <td>10:37</td>\n",
              "      <td>Ewallet</td>\n",
              "      <td>604.17</td>\n",
              "      <td>4.761905</td>\n",
              "      <td>30.2085</td>\n",
              "      <td>5.3</td>\n",
              "      <td>10</td>\n",
              "      <td>Friday</td>\n",
              "    </tr>\n",
              "  </tbody>\n",
              "</table>\n",
              "</div>\n",
              "      <button class=\"colab-df-convert\" onclick=\"convertToInteractive('df-986c4213-8560-4ce5-8690-90cf5d82b58e')\"\n",
              "              title=\"Convert this dataframe to an interactive table.\"\n",
              "              style=\"display:none;\">\n",
              "        \n",
              "  <svg xmlns=\"http://www.w3.org/2000/svg\" height=\"24px\"viewBox=\"0 0 24 24\"\n",
              "       width=\"24px\">\n",
              "    <path d=\"M0 0h24v24H0V0z\" fill=\"none\"/>\n",
              "    <path d=\"M18.56 5.44l.94 2.06.94-2.06 2.06-.94-2.06-.94-.94-2.06-.94 2.06-2.06.94zm-11 1L8.5 8.5l.94-2.06 2.06-.94-2.06-.94L8.5 2.5l-.94 2.06-2.06.94zm10 10l.94 2.06.94-2.06 2.06-.94-2.06-.94-.94-2.06-.94 2.06-2.06.94z\"/><path d=\"M17.41 7.96l-1.37-1.37c-.4-.4-.92-.59-1.43-.59-.52 0-1.04.2-1.43.59L10.3 9.45l-7.72 7.72c-.78.78-.78 2.05 0 2.83L4 21.41c.39.39.9.59 1.41.59.51 0 1.02-.2 1.41-.59l7.78-7.78 2.81-2.81c.8-.78.8-2.07 0-2.86zM5.41 20L4 18.59l7.72-7.72 1.47 1.35L5.41 20z\"/>\n",
              "  </svg>\n",
              "      </button>\n",
              "      \n",
              "  <style>\n",
              "    .colab-df-container {\n",
              "      display:flex;\n",
              "      flex-wrap:wrap;\n",
              "      gap: 12px;\n",
              "    }\n",
              "\n",
              "    .colab-df-convert {\n",
              "      background-color: #E8F0FE;\n",
              "      border: none;\n",
              "      border-radius: 50%;\n",
              "      cursor: pointer;\n",
              "      display: none;\n",
              "      fill: #1967D2;\n",
              "      height: 32px;\n",
              "      padding: 0 0 0 0;\n",
              "      width: 32px;\n",
              "    }\n",
              "\n",
              "    .colab-df-convert:hover {\n",
              "      background-color: #E2EBFA;\n",
              "      box-shadow: 0px 1px 2px rgba(60, 64, 67, 0.3), 0px 1px 3px 1px rgba(60, 64, 67, 0.15);\n",
              "      fill: #174EA6;\n",
              "    }\n",
              "\n",
              "    [theme=dark] .colab-df-convert {\n",
              "      background-color: #3B4455;\n",
              "      fill: #D2E3FC;\n",
              "    }\n",
              "\n",
              "    [theme=dark] .colab-df-convert:hover {\n",
              "      background-color: #434B5C;\n",
              "      box-shadow: 0px 1px 3px 1px rgba(0, 0, 0, 0.15);\n",
              "      filter: drop-shadow(0px 1px 2px rgba(0, 0, 0, 0.3));\n",
              "      fill: #FFFFFF;\n",
              "    }\n",
              "  </style>\n",
              "\n",
              "      <script>\n",
              "        const buttonEl =\n",
              "          document.querySelector('#df-986c4213-8560-4ce5-8690-90cf5d82b58e button.colab-df-convert');\n",
              "        buttonEl.style.display =\n",
              "          google.colab.kernel.accessAllowed ? 'block' : 'none';\n",
              "\n",
              "        async function convertToInteractive(key) {\n",
              "          const element = document.querySelector('#df-986c4213-8560-4ce5-8690-90cf5d82b58e');\n",
              "          const dataTable =\n",
              "            await google.colab.kernel.invokeFunction('convertToInteractive',\n",
              "                                                     [key], {});\n",
              "          if (!dataTable) return;\n",
              "\n",
              "          const docLinkHtml = 'Like what you see? Visit the ' +\n",
              "            '<a target=\"_blank\" href=https://colab.research.google.com/notebooks/data_table.ipynb>data table notebook</a>'\n",
              "            + ' to learn more about interactive tables.';\n",
              "          element.innerHTML = '';\n",
              "          dataTable['output_type'] = 'display_data';\n",
              "          await google.colab.output.renderOutput(dataTable, element);\n",
              "          const docLink = document.createElement('div');\n",
              "          docLink.innerHTML = docLinkHtml;\n",
              "          element.appendChild(docLink);\n",
              "        }\n",
              "      </script>\n",
              "    </div>\n",
              "  </div>\n",
              "  "
            ]
          },
          "metadata": {},
          "execution_count": 44
        }
      ]
    },
    {
      "cell_type": "code",
      "source": [
        "supermarket_sales_df.tail()"
      ],
      "metadata": {
        "colab": {
          "base_uri": "https://localhost:8080/",
          "height": 354
        },
        "id": "Y1qK8qBbvoLW",
        "outputId": "ddc5329a-5454-4e54-9a25-ec71f2ef46c4"
      },
      "id": "Y1qK8qBbvoLW",
      "execution_count": 8,
      "outputs": [
        {
          "output_type": "execute_result",
          "data": {
            "text/plain": [
              "      Invoice ID Branch       City Customer type  Gender         Product line  \\\n",
              "995  233-67-5758      C  Naypyitaw        Normal    Male    Health and beauty   \n",
              "996  303-96-2227      B   Mandalay        Normal  Female   Home and lifestyle   \n",
              "997  727-02-1313      A     Yangon        Member    Male   Food and beverages   \n",
              "998  347-56-2442      A     Yangon        Normal    Male   Home and lifestyle   \n",
              "999  849-09-3807      A     Yangon        Member  Female  Fashion accessories   \n",
              "\n",
              "     Unit price  Quantity   Tax 5%      Total       Date   Time  Payment  \\\n",
              "995       40.35         1   2.0175    42.3675  1/29/2019  13:46  Ewallet   \n",
              "996       97.38        10  48.6900  1022.4900   3/2/2019  17:16  Ewallet   \n",
              "997       31.84         1   1.5920    33.4320   2/9/2019  13:22     Cash   \n",
              "998       65.82         1   3.2910    69.1110  2/22/2019  15:33     Cash   \n",
              "999       88.34         7  30.9190   649.2990  2/18/2019  13:28     Cash   \n",
              "\n",
              "       cogs  gross margin percentage  gross income  Rating  \n",
              "995   40.35                 4.761905        2.0175     6.2  \n",
              "996  973.80                 4.761905       48.6900     4.4  \n",
              "997   31.84                 4.761905        1.5920     7.7  \n",
              "998   65.82                 4.761905        3.2910     4.1  \n",
              "999  618.38                 4.761905       30.9190     6.6  "
            ],
            "text/html": [
              "\n",
              "  <div id=\"df-e8075ad5-fe25-4d1e-8f56-d7cf92a506c1\">\n",
              "    <div class=\"colab-df-container\">\n",
              "      <div>\n",
              "<style scoped>\n",
              "    .dataframe tbody tr th:only-of-type {\n",
              "        vertical-align: middle;\n",
              "    }\n",
              "\n",
              "    .dataframe tbody tr th {\n",
              "        vertical-align: top;\n",
              "    }\n",
              "\n",
              "    .dataframe thead th {\n",
              "        text-align: right;\n",
              "    }\n",
              "</style>\n",
              "<table border=\"1\" class=\"dataframe\">\n",
              "  <thead>\n",
              "    <tr style=\"text-align: right;\">\n",
              "      <th></th>\n",
              "      <th>Invoice ID</th>\n",
              "      <th>Branch</th>\n",
              "      <th>City</th>\n",
              "      <th>Customer type</th>\n",
              "      <th>Gender</th>\n",
              "      <th>Product line</th>\n",
              "      <th>Unit price</th>\n",
              "      <th>Quantity</th>\n",
              "      <th>Tax 5%</th>\n",
              "      <th>Total</th>\n",
              "      <th>Date</th>\n",
              "      <th>Time</th>\n",
              "      <th>Payment</th>\n",
              "      <th>cogs</th>\n",
              "      <th>gross margin percentage</th>\n",
              "      <th>gross income</th>\n",
              "      <th>Rating</th>\n",
              "    </tr>\n",
              "  </thead>\n",
              "  <tbody>\n",
              "    <tr>\n",
              "      <th>995</th>\n",
              "      <td>233-67-5758</td>\n",
              "      <td>C</td>\n",
              "      <td>Naypyitaw</td>\n",
              "      <td>Normal</td>\n",
              "      <td>Male</td>\n",
              "      <td>Health and beauty</td>\n",
              "      <td>40.35</td>\n",
              "      <td>1</td>\n",
              "      <td>2.0175</td>\n",
              "      <td>42.3675</td>\n",
              "      <td>1/29/2019</td>\n",
              "      <td>13:46</td>\n",
              "      <td>Ewallet</td>\n",
              "      <td>40.35</td>\n",
              "      <td>4.761905</td>\n",
              "      <td>2.0175</td>\n",
              "      <td>6.2</td>\n",
              "    </tr>\n",
              "    <tr>\n",
              "      <th>996</th>\n",
              "      <td>303-96-2227</td>\n",
              "      <td>B</td>\n",
              "      <td>Mandalay</td>\n",
              "      <td>Normal</td>\n",
              "      <td>Female</td>\n",
              "      <td>Home and lifestyle</td>\n",
              "      <td>97.38</td>\n",
              "      <td>10</td>\n",
              "      <td>48.6900</td>\n",
              "      <td>1022.4900</td>\n",
              "      <td>3/2/2019</td>\n",
              "      <td>17:16</td>\n",
              "      <td>Ewallet</td>\n",
              "      <td>973.80</td>\n",
              "      <td>4.761905</td>\n",
              "      <td>48.6900</td>\n",
              "      <td>4.4</td>\n",
              "    </tr>\n",
              "    <tr>\n",
              "      <th>997</th>\n",
              "      <td>727-02-1313</td>\n",
              "      <td>A</td>\n",
              "      <td>Yangon</td>\n",
              "      <td>Member</td>\n",
              "      <td>Male</td>\n",
              "      <td>Food and beverages</td>\n",
              "      <td>31.84</td>\n",
              "      <td>1</td>\n",
              "      <td>1.5920</td>\n",
              "      <td>33.4320</td>\n",
              "      <td>2/9/2019</td>\n",
              "      <td>13:22</td>\n",
              "      <td>Cash</td>\n",
              "      <td>31.84</td>\n",
              "      <td>4.761905</td>\n",
              "      <td>1.5920</td>\n",
              "      <td>7.7</td>\n",
              "    </tr>\n",
              "    <tr>\n",
              "      <th>998</th>\n",
              "      <td>347-56-2442</td>\n",
              "      <td>A</td>\n",
              "      <td>Yangon</td>\n",
              "      <td>Normal</td>\n",
              "      <td>Male</td>\n",
              "      <td>Home and lifestyle</td>\n",
              "      <td>65.82</td>\n",
              "      <td>1</td>\n",
              "      <td>3.2910</td>\n",
              "      <td>69.1110</td>\n",
              "      <td>2/22/2019</td>\n",
              "      <td>15:33</td>\n",
              "      <td>Cash</td>\n",
              "      <td>65.82</td>\n",
              "      <td>4.761905</td>\n",
              "      <td>3.2910</td>\n",
              "      <td>4.1</td>\n",
              "    </tr>\n",
              "    <tr>\n",
              "      <th>999</th>\n",
              "      <td>849-09-3807</td>\n",
              "      <td>A</td>\n",
              "      <td>Yangon</td>\n",
              "      <td>Member</td>\n",
              "      <td>Female</td>\n",
              "      <td>Fashion accessories</td>\n",
              "      <td>88.34</td>\n",
              "      <td>7</td>\n",
              "      <td>30.9190</td>\n",
              "      <td>649.2990</td>\n",
              "      <td>2/18/2019</td>\n",
              "      <td>13:28</td>\n",
              "      <td>Cash</td>\n",
              "      <td>618.38</td>\n",
              "      <td>4.761905</td>\n",
              "      <td>30.9190</td>\n",
              "      <td>6.6</td>\n",
              "    </tr>\n",
              "  </tbody>\n",
              "</table>\n",
              "</div>\n",
              "      <button class=\"colab-df-convert\" onclick=\"convertToInteractive('df-e8075ad5-fe25-4d1e-8f56-d7cf92a506c1')\"\n",
              "              title=\"Convert this dataframe to an interactive table.\"\n",
              "              style=\"display:none;\">\n",
              "        \n",
              "  <svg xmlns=\"http://www.w3.org/2000/svg\" height=\"24px\"viewBox=\"0 0 24 24\"\n",
              "       width=\"24px\">\n",
              "    <path d=\"M0 0h24v24H0V0z\" fill=\"none\"/>\n",
              "    <path d=\"M18.56 5.44l.94 2.06.94-2.06 2.06-.94-2.06-.94-.94-2.06-.94 2.06-2.06.94zm-11 1L8.5 8.5l.94-2.06 2.06-.94-2.06-.94L8.5 2.5l-.94 2.06-2.06.94zm10 10l.94 2.06.94-2.06 2.06-.94-2.06-.94-.94-2.06-.94 2.06-2.06.94z\"/><path d=\"M17.41 7.96l-1.37-1.37c-.4-.4-.92-.59-1.43-.59-.52 0-1.04.2-1.43.59L10.3 9.45l-7.72 7.72c-.78.78-.78 2.05 0 2.83L4 21.41c.39.39.9.59 1.41.59.51 0 1.02-.2 1.41-.59l7.78-7.78 2.81-2.81c.8-.78.8-2.07 0-2.86zM5.41 20L4 18.59l7.72-7.72 1.47 1.35L5.41 20z\"/>\n",
              "  </svg>\n",
              "      </button>\n",
              "      \n",
              "  <style>\n",
              "    .colab-df-container {\n",
              "      display:flex;\n",
              "      flex-wrap:wrap;\n",
              "      gap: 12px;\n",
              "    }\n",
              "\n",
              "    .colab-df-convert {\n",
              "      background-color: #E8F0FE;\n",
              "      border: none;\n",
              "      border-radius: 50%;\n",
              "      cursor: pointer;\n",
              "      display: none;\n",
              "      fill: #1967D2;\n",
              "      height: 32px;\n",
              "      padding: 0 0 0 0;\n",
              "      width: 32px;\n",
              "    }\n",
              "\n",
              "    .colab-df-convert:hover {\n",
              "      background-color: #E2EBFA;\n",
              "      box-shadow: 0px 1px 2px rgba(60, 64, 67, 0.3), 0px 1px 3px 1px rgba(60, 64, 67, 0.15);\n",
              "      fill: #174EA6;\n",
              "    }\n",
              "\n",
              "    [theme=dark] .colab-df-convert {\n",
              "      background-color: #3B4455;\n",
              "      fill: #D2E3FC;\n",
              "    }\n",
              "\n",
              "    [theme=dark] .colab-df-convert:hover {\n",
              "      background-color: #434B5C;\n",
              "      box-shadow: 0px 1px 3px 1px rgba(0, 0, 0, 0.15);\n",
              "      filter: drop-shadow(0px 1px 2px rgba(0, 0, 0, 0.3));\n",
              "      fill: #FFFFFF;\n",
              "    }\n",
              "  </style>\n",
              "\n",
              "      <script>\n",
              "        const buttonEl =\n",
              "          document.querySelector('#df-e8075ad5-fe25-4d1e-8f56-d7cf92a506c1 button.colab-df-convert');\n",
              "        buttonEl.style.display =\n",
              "          google.colab.kernel.accessAllowed ? 'block' : 'none';\n",
              "\n",
              "        async function convertToInteractive(key) {\n",
              "          const element = document.querySelector('#df-e8075ad5-fe25-4d1e-8f56-d7cf92a506c1');\n",
              "          const dataTable =\n",
              "            await google.colab.kernel.invokeFunction('convertToInteractive',\n",
              "                                                     [key], {});\n",
              "          if (!dataTable) return;\n",
              "\n",
              "          const docLinkHtml = 'Like what you see? Visit the ' +\n",
              "            '<a target=\"_blank\" href=https://colab.research.google.com/notebooks/data_table.ipynb>data table notebook</a>'\n",
              "            + ' to learn more about interactive tables.';\n",
              "          element.innerHTML = '';\n",
              "          dataTable['output_type'] = 'display_data';\n",
              "          await google.colab.output.renderOutput(dataTable, element);\n",
              "          const docLink = document.createElement('div');\n",
              "          docLink.innerHTML = docLinkHtml;\n",
              "          element.appendChild(docLink);\n",
              "        }\n",
              "      </script>\n",
              "    </div>\n",
              "  </div>\n",
              "  "
            ]
          },
          "metadata": {},
          "execution_count": 8
        }
      ]
    },
    {
      "cell_type": "markdown",
      "id": "33661c15",
      "metadata": {
        "ExecuteTime": {
          "end_time": "2022-11-01T16:51:38.594974Z",
          "start_time": "2022-11-01T16:51:38.591423Z"
        },
        "id": "33661c15"
      },
      "source": [
        "3.Виведіть кількість рядків і кількість колонок в наборі даних. Відповідь сформуйте використовуючи fstring."
      ]
    },
    {
      "cell_type": "code",
      "execution_count": 9,
      "id": "bac0cbfc",
      "metadata": {
        "ExecuteTime": {
          "end_time": "2022-11-01T16:54:59.887783Z",
          "start_time": "2022-11-01T16:54:59.884323Z"
        },
        "id": "bac0cbfc",
        "colab": {
          "base_uri": "https://localhost:8080/"
        },
        "outputId": "c916b43a-360d-4445-e745-ee80e150af88"
      },
      "outputs": [
        {
          "output_type": "stream",
          "name": "stdout",
          "text": [
            "Набір даних містить 1000 рядків та 17 колонок.\n"
          ]
        }
      ],
      "source": [
        "df_shape = supermarket_sales_df.shape\n",
        "print(f'Набір даних містить {df_shape[0]} рядків та {df_shape[1]} колонок.')"
      ]
    },
    {
      "cell_type": "markdown",
      "id": "6003a42d",
      "metadata": {
        "ExecuteTime": {
          "end_time": "2022-11-01T16:55:17.592347Z",
          "start_time": "2022-11-01T16:55:17.588549Z"
        },
        "id": "6003a42d"
      },
      "source": [
        "Очікувана відповідь:\n",
        "    ```Набір даних містить 1000 рядків та 17 колонок.```"
      ]
    },
    {
      "cell_type": "markdown",
      "id": "2d54e0e4",
      "metadata": {
        "id": "2d54e0e4"
      },
      "source": [
        "4.Виведіть назви колонок у наборі даних разом з їхніми типами."
      ]
    },
    {
      "cell_type": "code",
      "execution_count": 10,
      "id": "513f5a99",
      "metadata": {
        "ExecuteTime": {
          "end_time": "2021-12-08T18:46:42.609601Z",
          "start_time": "2021-12-08T18:46:42.604424Z"
        },
        "id": "513f5a99",
        "colab": {
          "base_uri": "https://localhost:8080/"
        },
        "outputId": "ebf29fab-5132-4cdb-9dd5-fc5c50d8d5a7"
      },
      "outputs": [
        {
          "output_type": "execute_result",
          "data": {
            "text/plain": [
              "Invoice ID                  object\n",
              "Branch                      object\n",
              "City                        object\n",
              "Customer type               object\n",
              "Gender                      object\n",
              "Product line                object\n",
              "Unit price                 float64\n",
              "Quantity                     int64\n",
              "Tax 5%                     float64\n",
              "Total                      float64\n",
              "Date                        object\n",
              "Time                        object\n",
              "Payment                     object\n",
              "cogs                       float64\n",
              "gross margin percentage    float64\n",
              "gross income               float64\n",
              "Rating                     float64\n",
              "dtype: object"
            ]
          },
          "metadata": {},
          "execution_count": 10
        }
      ],
      "source": [
        "supermarket_sales_df.dtypes"
      ]
    },
    {
      "cell_type": "markdown",
      "id": "75f38c1e",
      "metadata": {
        "ExecuteTime": {
          "end_time": "2021-09-20T19:46:49.248936Z",
          "start_time": "2021-09-20T19:46:49.245644Z"
        },
        "id": "75f38c1e"
      },
      "source": [
        "5.Скільки в даному наборі даних є колонок якого типу (текстового, int, float)?"
      ]
    },
    {
      "cell_type": "code",
      "execution_count": 11,
      "id": "62afdd41",
      "metadata": {
        "ExecuteTime": {
          "end_time": "2022-11-01T17:05:41.960427Z",
          "start_time": "2022-11-01T17:05:41.948447Z"
        },
        "id": "62afdd41",
        "colab": {
          "base_uri": "https://localhost:8080/"
        },
        "outputId": "9e39d8cb-a81e-42ad-eaf3-5b1e3c42d31d"
      },
      "outputs": [
        {
          "output_type": "execute_result",
          "data": {
            "text/plain": [
              "object     9\n",
              "float64    7\n",
              "int64      1\n",
              "dtype: int64"
            ]
          },
          "metadata": {},
          "execution_count": 11
        }
      ],
      "source": [
        "supermarket_sales_df.dtypes.value_counts()"
      ]
    },
    {
      "cell_type": "markdown",
      "id": "815f9cc0",
      "metadata": {
        "id": "815f9cc0"
      },
      "source": [
        "6.Скільки всього покупок зробили покупці з різним типом клієнта (`Customer type`)? Тут можна отримати відповідь одним рядком коду і це варіант реалізації, якому варто надати перевагу."
      ]
    },
    {
      "cell_type": "code",
      "execution_count": 12,
      "id": "0247e60a",
      "metadata": {
        "ExecuteTime": {
          "end_time": "2022-11-01T17:13:56.892032Z",
          "start_time": "2022-11-01T17:13:56.883250Z"
        },
        "id": "0247e60a",
        "colab": {
          "base_uri": "https://localhost:8080/"
        },
        "outputId": "34befeb4-0aef-4aa7-f818-f8be6581f104"
      },
      "outputs": [
        {
          "output_type": "execute_result",
          "data": {
            "text/plain": [
              "Member    501\n",
              "Normal    499\n",
              "Name: Customer type, dtype: int64"
            ]
          },
          "metadata": {},
          "execution_count": 12
        }
      ],
      "source": [
        "supermarket_sales_df['Customer type'].value_counts()"
      ]
    },
    {
      "cell_type": "markdown",
      "id": "f4c8d00f",
      "metadata": {
        "id": "f4c8d00f"
      },
      "source": [
        "7.Які є продуктові лінії (колонка 'Product line') в наборі даних? Вивести унікальні назви. Результат може бути в форматі np.array, list, pd.Series - це не грає великої ролі тут. Але знову ж таки пріоритет на отриманні результату одним методом :)"
      ]
    },
    {
      "cell_type": "code",
      "execution_count": 13,
      "id": "61ae9569",
      "metadata": {
        "ExecuteTime": {
          "end_time": "2021-12-08T18:46:42.649683Z",
          "start_time": "2021-12-08T18:46:42.644615Z"
        },
        "id": "61ae9569",
        "colab": {
          "base_uri": "https://localhost:8080/"
        },
        "outputId": "9704f1ee-bedc-4896-b707-edf75d8262c8"
      },
      "outputs": [
        {
          "output_type": "execute_result",
          "data": {
            "text/plain": [
              "array(['Health and beauty', 'Electronic accessories',\n",
              "       'Home and lifestyle', 'Sports and travel', 'Food and beverages',\n",
              "       'Fashion accessories'], dtype=object)"
            ]
          },
          "metadata": {},
          "execution_count": 13
        }
      ],
      "source": [
        "supermarket_sales_df['Product line'].unique()"
      ]
    },
    {
      "cell_type": "markdown",
      "id": "7d3dc308",
      "metadata": {
        "ExecuteTime": {
          "end_time": "2021-09-20T19:54:26.232269Z",
          "start_time": "2021-09-20T19:54:26.229253Z"
        },
        "id": "7d3dc308"
      },
      "source": [
        "8.Яка середня ціна товару в кожній продуктовій лінії?\n",
        "Ціна товару міститься в колонці `'Unit price'`"
      ]
    },
    {
      "cell_type": "code",
      "execution_count": 14,
      "id": "2a9b94c5",
      "metadata": {
        "ExecuteTime": {
          "end_time": "2021-12-08T18:46:42.661701Z",
          "start_time": "2021-12-08T18:46:42.655591Z"
        },
        "id": "2a9b94c5",
        "colab": {
          "base_uri": "https://localhost:8080/"
        },
        "outputId": "4458b971-9715-4df4-fb17-51046b619a17"
      },
      "outputs": [
        {
          "output_type": "execute_result",
          "data": {
            "text/plain": [
              "Product line\n",
              "Electronic accessories    53.551588\n",
              "Fashion accessories       57.153652\n",
              "Food and beverages        56.008851\n",
              "Health and beauty         54.854474\n",
              "Home and lifestyle        55.316937\n",
              "Sports and travel         56.993253\n",
              "Name: Unit price, dtype: float64"
            ]
          },
          "metadata": {},
          "execution_count": 14
        }
      ],
      "source": [
        "supermarket_sales_df.groupby('Product line')['Unit price'].mean()"
      ]
    },
    {
      "cell_type": "markdown",
      "id": "677ac891",
      "metadata": {
        "ExecuteTime": {
          "end_time": "2021-10-12T18:19:46.908444Z",
          "start_time": "2021-10-12T18:19:46.900526Z"
        },
        "id": "677ac891"
      },
      "source": [
        "9.З якої покупки (рядок в цих даних) магазин отримав найбільший прибуток (`gross income`)? Виведіть рядок даних з найбільшим прибутком магазину."
      ]
    },
    {
      "cell_type": "code",
      "execution_count": 15,
      "id": "84539697",
      "metadata": {
        "id": "84539697",
        "colab": {
          "base_uri": "https://localhost:8080/"
        },
        "outputId": "6de65229-3be7-4ada-cc21-e90132bec12d"
      },
      "outputs": [
        {
          "output_type": "execute_result",
          "data": {
            "text/plain": [
              "Invoice ID                         860-79-0874\n",
              "Branch                                       C\n",
              "City                                 Naypyitaw\n",
              "Customer type                           Member\n",
              "Gender                                  Female\n",
              "Product line               Fashion accessories\n",
              "Unit price                                99.3\n",
              "Quantity                                    10\n",
              "Tax 5%                                   49.65\n",
              "Total                                  1042.65\n",
              "Date                                 2/15/2019\n",
              "Time                                     14:53\n",
              "Payment                            Credit card\n",
              "cogs                                     993.0\n",
              "gross margin percentage               4.761905\n",
              "gross income                             49.65\n",
              "Rating                                     6.6\n",
              "Name: 350, dtype: object"
            ]
          },
          "metadata": {},
          "execution_count": 15
        }
      ],
      "source": [
        "supermarket_sales_df[supermarket_sales_df['gross income'] == supermarket_sales_df['gross income'].max()].squeeze()"
      ]
    },
    {
      "cell_type": "markdown",
      "id": "28638363",
      "metadata": {
        "id": "28638363"
      },
      "source": [
        "10.А який філіал магазину ('Branch') є найприбутковішим? Який сумарний прибуток він має та в якому місті знайходиться? Може в тому місці нам розмітисти ще один магазин.  \n",
        "Порахуйте результат з допомогою функціоналу Pandas та виведіть використовуючи fstring форматування."
      ]
    },
    {
      "cell_type": "code",
      "execution_count": 16,
      "id": "916d731d",
      "metadata": {
        "ExecuteTime": {
          "end_time": "2022-11-01T17:27:42.023877Z",
          "start_time": "2022-11-01T17:27:42.020277Z"
        },
        "id": "916d731d",
        "colab": {
          "base_uri": "https://localhost:8080/"
        },
        "outputId": "69e7fadb-52b7-4fd9-b9b4-801db968dff4"
      },
      "outputs": [
        {
          "output_type": "stream",
          "name": "stdout",
          "text": [
            "Філіал \"C\" є найприбутковішим: його сумарний прибуток = 5265.1765. Цей філіал знаходиться в місті Naypyitaw.\n"
          ]
        }
      ],
      "source": [
        "max_income_branch_id, max_income_branch_gross = supermarket_sales_df.groupby('Branch')['gross income'].sum().idxmax(), \\\n",
        "                          supermarket_sales_df.groupby('Branch')['gross income'].sum().max()\n",
        "\n",
        "max_income_branch_city = supermarket_sales_df[supermarket_sales_df['Branch'] == max_income_branch_id]['City'].unique()[0]\n",
        "\n",
        "print(f'Філіал \"{max_income_branch_id}\" є найприбутковішим: його сумарний прибуток = {max_income_branch_gross}. Цей філіал знаходиться в місті {max_income_branch_city}.')"
      ]
    },
    {
      "cell_type": "markdown",
      "id": "1aa3898c",
      "metadata": {
        "ExecuteTime": {
          "end_time": "2022-11-01T16:50:46.961201Z",
          "start_time": "2022-11-01T16:50:46.955894Z"
        },
        "id": "1aa3898c"
      },
      "source": [
        "Очікуваний результат: `Філіал \"C\" є найприбутковішим. Цей філіал знаходиться в місті Naypyitaw.`"
      ]
    },
    {
      "cell_type": "markdown",
      "id": "cdcab0d9",
      "metadata": {
        "id": "cdcab0d9"
      },
      "source": [
        "11.Перевірте програмно, чи відрізняється маржа ('gross margin percentage') для різних покупок в магазині? Дайте на основі отриманого результату відповідь: \"На всі покупки однакові маржа\" або \"Маржа відрізняється для різних покупок\"."
      ]
    },
    {
      "cell_type": "code",
      "execution_count": 17,
      "id": "779eee90",
      "metadata": {
        "ExecuteTime": {
          "end_time": "2022-11-01T17:32:47.532241Z",
          "start_time": "2022-11-01T17:32:47.525715Z"
        },
        "id": "779eee90",
        "colab": {
          "base_uri": "https://localhost:8080/"
        },
        "outputId": "716af339-0bdb-43f5-c040-0083004e9c0f"
      },
      "outputs": [
        {
          "output_type": "stream",
          "name": "stdout",
          "text": [
            "На всі покупки однакові маржа\n"
          ]
        }
      ],
      "source": [
        "if len(supermarket_sales_df['gross margin percentage'].unique()) == 1:\n",
        "  print('На всі покупки однакові маржа')\n",
        "else:\n",
        "  print('Маржа відрізняється для різних покупок')"
      ]
    },
    {
      "cell_type": "markdown",
      "id": "6dec795f",
      "metadata": {
        "id": "6dec795f"
      },
      "source": [
        "12.В якому філіалі магазину ('Branch') купують найбільше електронних аксесуарів ('Electronic accessories')? Для відповіді сформуйте таблицю в якої рядки - це назви філіалів, колонки - це назви продуктової лінійки, а значення - це кількість покупок. Дайте відповідь базуючись на сформованій таблиці. Можна просто візуально."
      ]
    },
    {
      "cell_type": "code",
      "source": [
        "df_pivot = supermarket_sales_df.pivot_table(\n",
        "    index=['Branch'],\n",
        "    columns=['Product line'],\n",
        "    values='Invoice ID',\n",
        "    aggfunc='count'\n",
        ")\n",
        "\n",
        "df_pivot"
      ],
      "metadata": {
        "colab": {
          "base_uri": "https://localhost:8080/",
          "height": 174
        },
        "id": "47_iv0vTmYEO",
        "outputId": "b4745261-3ff8-45be-9bc1-ed23fa6c8438"
      },
      "id": "47_iv0vTmYEO",
      "execution_count": 18,
      "outputs": [
        {
          "output_type": "execute_result",
          "data": {
            "text/plain": [
              "Product line  Electronic accessories  Fashion accessories  Food and beverages  \\\n",
              "Branch                                                                          \n",
              "A                                 60                   51                  58   \n",
              "B                                 55                   62                  50   \n",
              "C                                 55                   65                  66   \n",
              "\n",
              "Product line  Health and beauty  Home and lifestyle  Sports and travel  \n",
              "Branch                                                                  \n",
              "A                            47                  65                 59  \n",
              "B                            53                  50                 62  \n",
              "C                            52                  45                 45  "
            ],
            "text/html": [
              "\n",
              "  <div id=\"df-50abbf93-9757-422f-81a4-f2e2b372a80d\">\n",
              "    <div class=\"colab-df-container\">\n",
              "      <div>\n",
              "<style scoped>\n",
              "    .dataframe tbody tr th:only-of-type {\n",
              "        vertical-align: middle;\n",
              "    }\n",
              "\n",
              "    .dataframe tbody tr th {\n",
              "        vertical-align: top;\n",
              "    }\n",
              "\n",
              "    .dataframe thead th {\n",
              "        text-align: right;\n",
              "    }\n",
              "</style>\n",
              "<table border=\"1\" class=\"dataframe\">\n",
              "  <thead>\n",
              "    <tr style=\"text-align: right;\">\n",
              "      <th>Product line</th>\n",
              "      <th>Electronic accessories</th>\n",
              "      <th>Fashion accessories</th>\n",
              "      <th>Food and beverages</th>\n",
              "      <th>Health and beauty</th>\n",
              "      <th>Home and lifestyle</th>\n",
              "      <th>Sports and travel</th>\n",
              "    </tr>\n",
              "    <tr>\n",
              "      <th>Branch</th>\n",
              "      <th></th>\n",
              "      <th></th>\n",
              "      <th></th>\n",
              "      <th></th>\n",
              "      <th></th>\n",
              "      <th></th>\n",
              "    </tr>\n",
              "  </thead>\n",
              "  <tbody>\n",
              "    <tr>\n",
              "      <th>A</th>\n",
              "      <td>60</td>\n",
              "      <td>51</td>\n",
              "      <td>58</td>\n",
              "      <td>47</td>\n",
              "      <td>65</td>\n",
              "      <td>59</td>\n",
              "    </tr>\n",
              "    <tr>\n",
              "      <th>B</th>\n",
              "      <td>55</td>\n",
              "      <td>62</td>\n",
              "      <td>50</td>\n",
              "      <td>53</td>\n",
              "      <td>50</td>\n",
              "      <td>62</td>\n",
              "    </tr>\n",
              "    <tr>\n",
              "      <th>C</th>\n",
              "      <td>55</td>\n",
              "      <td>65</td>\n",
              "      <td>66</td>\n",
              "      <td>52</td>\n",
              "      <td>45</td>\n",
              "      <td>45</td>\n",
              "    </tr>\n",
              "  </tbody>\n",
              "</table>\n",
              "</div>\n",
              "      <button class=\"colab-df-convert\" onclick=\"convertToInteractive('df-50abbf93-9757-422f-81a4-f2e2b372a80d')\"\n",
              "              title=\"Convert this dataframe to an interactive table.\"\n",
              "              style=\"display:none;\">\n",
              "        \n",
              "  <svg xmlns=\"http://www.w3.org/2000/svg\" height=\"24px\"viewBox=\"0 0 24 24\"\n",
              "       width=\"24px\">\n",
              "    <path d=\"M0 0h24v24H0V0z\" fill=\"none\"/>\n",
              "    <path d=\"M18.56 5.44l.94 2.06.94-2.06 2.06-.94-2.06-.94-.94-2.06-.94 2.06-2.06.94zm-11 1L8.5 8.5l.94-2.06 2.06-.94-2.06-.94L8.5 2.5l-.94 2.06-2.06.94zm10 10l.94 2.06.94-2.06 2.06-.94-2.06-.94-.94-2.06-.94 2.06-2.06.94z\"/><path d=\"M17.41 7.96l-1.37-1.37c-.4-.4-.92-.59-1.43-.59-.52 0-1.04.2-1.43.59L10.3 9.45l-7.72 7.72c-.78.78-.78 2.05 0 2.83L4 21.41c.39.39.9.59 1.41.59.51 0 1.02-.2 1.41-.59l7.78-7.78 2.81-2.81c.8-.78.8-2.07 0-2.86zM5.41 20L4 18.59l7.72-7.72 1.47 1.35L5.41 20z\"/>\n",
              "  </svg>\n",
              "      </button>\n",
              "      \n",
              "  <style>\n",
              "    .colab-df-container {\n",
              "      display:flex;\n",
              "      flex-wrap:wrap;\n",
              "      gap: 12px;\n",
              "    }\n",
              "\n",
              "    .colab-df-convert {\n",
              "      background-color: #E8F0FE;\n",
              "      border: none;\n",
              "      border-radius: 50%;\n",
              "      cursor: pointer;\n",
              "      display: none;\n",
              "      fill: #1967D2;\n",
              "      height: 32px;\n",
              "      padding: 0 0 0 0;\n",
              "      width: 32px;\n",
              "    }\n",
              "\n",
              "    .colab-df-convert:hover {\n",
              "      background-color: #E2EBFA;\n",
              "      box-shadow: 0px 1px 2px rgba(60, 64, 67, 0.3), 0px 1px 3px 1px rgba(60, 64, 67, 0.15);\n",
              "      fill: #174EA6;\n",
              "    }\n",
              "\n",
              "    [theme=dark] .colab-df-convert {\n",
              "      background-color: #3B4455;\n",
              "      fill: #D2E3FC;\n",
              "    }\n",
              "\n",
              "    [theme=dark] .colab-df-convert:hover {\n",
              "      background-color: #434B5C;\n",
              "      box-shadow: 0px 1px 3px 1px rgba(0, 0, 0, 0.15);\n",
              "      filter: drop-shadow(0px 1px 2px rgba(0, 0, 0, 0.3));\n",
              "      fill: #FFFFFF;\n",
              "    }\n",
              "  </style>\n",
              "\n",
              "      <script>\n",
              "        const buttonEl =\n",
              "          document.querySelector('#df-50abbf93-9757-422f-81a4-f2e2b372a80d button.colab-df-convert');\n",
              "        buttonEl.style.display =\n",
              "          google.colab.kernel.accessAllowed ? 'block' : 'none';\n",
              "\n",
              "        async function convertToInteractive(key) {\n",
              "          const element = document.querySelector('#df-50abbf93-9757-422f-81a4-f2e2b372a80d');\n",
              "          const dataTable =\n",
              "            await google.colab.kernel.invokeFunction('convertToInteractive',\n",
              "                                                     [key], {});\n",
              "          if (!dataTable) return;\n",
              "\n",
              "          const docLinkHtml = 'Like what you see? Visit the ' +\n",
              "            '<a target=\"_blank\" href=https://colab.research.google.com/notebooks/data_table.ipynb>data table notebook</a>'\n",
              "            + ' to learn more about interactive tables.';\n",
              "          element.innerHTML = '';\n",
              "          dataTable['output_type'] = 'display_data';\n",
              "          await google.colab.output.renderOutput(dataTable, element);\n",
              "          const docLink = document.createElement('div');\n",
              "          docLink.innerHTML = docLinkHtml;\n",
              "          element.appendChild(docLink);\n",
              "        }\n",
              "      </script>\n",
              "    </div>\n",
              "  </div>\n",
              "  "
            ]
          },
          "metadata": {},
          "execution_count": 18
        }
      ]
    },
    {
      "cell_type": "markdown",
      "source": [
        "Найбільше електронних аксесуарів купують у філіалі А"
      ],
      "metadata": {
        "id": "BYrTfR1QoDE-"
      },
      "id": "BYrTfR1QoDE-"
    },
    {
      "cell_type": "markdown",
      "id": "acc43aab",
      "metadata": {
        "id": "acc43aab"
      },
      "source": [
        "13.Виведіть кількість покупок погодинно та зробіть висновок, коли в магазині роблять найбільше покупок.  \n",
        "Для цього створіть нову колонку в наборі даних з назвою Hour. Тип колонки - int. Виведіть тип колонки та перші 5 записів. Далі використовуючи цю колонку, сформуйте структуру, де кожній годині відповідає кількість покупок. З огляду на цю структуру дайте відповідь, о якій годині найбільше було покупок. Дивлячись на найбільш популярні для покупок години, які гіпотези про поведінку користувачів можемо зробити? Чому вони найчастіше купують саме в цей час?"
      ]
    },
    {
      "cell_type": "code",
      "execution_count": 19,
      "id": "74bea339",
      "metadata": {
        "id": "74bea339"
      },
      "outputs": [],
      "source": [
        "supermarket_sales_df['Hour'] = pd.to_datetime(supermarket_sales_df['Time'].values).hour"
      ]
    },
    {
      "cell_type": "code",
      "source": [
        "supermarket_sales_df['Hour'].head()"
      ],
      "metadata": {
        "colab": {
          "base_uri": "https://localhost:8080/"
        },
        "id": "0lYxcy0prDK9",
        "outputId": "6b7bc9ab-1c1e-43cc-c9f0-86499bad09ee"
      },
      "id": "0lYxcy0prDK9",
      "execution_count": 20,
      "outputs": [
        {
          "output_type": "execute_result",
          "data": {
            "text/plain": [
              "0    13\n",
              "1    10\n",
              "2    13\n",
              "3    20\n",
              "4    10\n",
              "Name: Hour, dtype: int64"
            ]
          },
          "metadata": {},
          "execution_count": 20
        }
      ]
    },
    {
      "cell_type": "code",
      "source": [
        "supermarket_sales_df['Hour'].value_counts()"
      ],
      "metadata": {
        "colab": {
          "base_uri": "https://localhost:8080/"
        },
        "id": "TjXYwLAIraPp",
        "outputId": "0cabde30-20c2-46e3-f674-2d1f0cd8d64f"
      },
      "id": "TjXYwLAIraPp",
      "execution_count": 22,
      "outputs": [
        {
          "output_type": "execute_result",
          "data": {
            "text/plain": [
              "19    113\n",
              "13    103\n",
              "15    102\n",
              "10    101\n",
              "18     93\n",
              "11     90\n",
              "12     89\n",
              "14     83\n",
              "16     77\n",
              "20     75\n",
              "17     74\n",
              "Name: Hour, dtype: int64"
            ]
          },
          "metadata": {},
          "execution_count": 22
        }
      ]
    },
    {
      "cell_type": "markdown",
      "id": "8fbb2429",
      "metadata": {
        "ExecuteTime": {
          "end_time": "2022-11-01T16:50:46.961201Z",
          "start_time": "2022-11-01T16:50:46.955894Z"
        },
        "id": "8fbb2429"
      },
      "source": [
        "Найчастіше покупки роблять о 19 (тут прям найбільше покупок), 13, 15 та 10 годині. Припустимо, що час вказано за місцевим часом покупця (якщо це час за ЮТС, то варто було перевести у місцевий покупця – з огляду на це припущення можуть відрізнятися).\n",
        "\n",
        "О 19 найбільше покупок, ймовірно, через те, що це час, коли люди повертаються з роботи додому і, відповідно, заїжджають у магазин.\n",
        "\n",
        "О 13 та 15 – може бути обідня перерва -> час для походу в магазин\n",
        "\n",
        "10 – ранок, час до роботи, магазини лише відкриваються, тому також можуть бути відвідувачі.\n",
        "\n",
        "Також можна подивитися по дню тижня (можливо, 10, 13, 15 – якраз покупки на вихідних)."
      ]
    },
    {
      "cell_type": "markdown",
      "id": "d005a2b8",
      "metadata": {
        "ExecuteTime": {
          "end_time": "2022-11-01T17:56:02.981755Z",
          "start_time": "2022-11-01T17:56:02.977086Z"
        },
        "id": "d005a2b8"
      },
      "source": [
        "14. Творче завдання :) Сформулюйте ТРИ питання до наявних даних, які допомогли б вам зрозуміти які користувачі що, де та коли найбільше/найменше купують. Звісно питання мають бути не тими, на які ми вже відповіли вище.    \n",
        "    Дайте відповіді на свої питання з допомогою функціоналу pandas. Опціонально - написати, як відповідь на це питання може бути використана для прийняття бізнес рішень.   \n",
        "    Питання можуть бути будь-якої складності, але їх має бути 3. Кожне питання оцінюється як 1 завдання. Без виконання цього завдання ДЗ не приймається. Якщо є питання щодо виконання - пишіть у чат.\n"
      ]
    },
    {
      "cell_type": "markdown",
      "source": [
        "14.1 Чи залежить кількість покупок від дня тижня?"
      ],
      "metadata": {
        "id": "z6J2GIsnz5NN"
      },
      "id": "z6J2GIsnz5NN"
    },
    {
      "cell_type": "code",
      "execution_count": 34,
      "id": "50c30e37",
      "metadata": {
        "id": "50c30e37"
      },
      "outputs": [],
      "source": [
        "supermarket_sales_df['Week_Day'] = pd.to_datetime(supermarket_sales_df['Date'].values).day_name()"
      ]
    },
    {
      "cell_type": "code",
      "source": [
        "supermarket_sales_df['Week_Day'].value_counts().reindex(['Monday', 'Tuesday', 'Wednesday', 'Thursday', 'Friday', 'Saturday', 'Sunday'])"
      ],
      "metadata": {
        "colab": {
          "base_uri": "https://localhost:8080/"
        },
        "id": "7CditKBx2PTd",
        "outputId": "a892fa7f-7d13-4254-a490-2e06e413e1b2"
      },
      "id": "7CditKBx2PTd",
      "execution_count": 41,
      "outputs": [
        {
          "output_type": "execute_result",
          "data": {
            "text/plain": [
              "Monday       125\n",
              "Tuesday      158\n",
              "Wednesday    143\n",
              "Thursday     138\n",
              "Friday       139\n",
              "Saturday     164\n",
              "Sunday       133\n",
              "Name: Week_Day, dtype: int64"
            ]
          },
          "metadata": {},
          "execution_count": 41
        }
      ]
    },
    {
      "cell_type": "code",
      "source": [
        "(supermarket_sales_df['Week_Day']\n",
        " .value_counts()\n",
        " .reindex(['Monday', 'Tuesday', 'Wednesday', 'Thursday', 'Friday', 'Saturday', 'Sunday'])\n",
        " .plot\n",
        " .bar());"
      ],
      "metadata": {
        "colab": {
          "base_uri": "https://localhost:8080/",
          "height": 496
        },
        "id": "Galq1sZY1jCS",
        "outputId": "100d3310-d6ee-4a80-9f2d-a41b8251cc45"
      },
      "id": "Galq1sZY1jCS",
      "execution_count": 43,
      "outputs": [
        {
          "output_type": "display_data",
          "data": {
            "text/plain": [
              "<Figure size 640x480 with 1 Axes>"
            ],
            "image/png": "[encoded data removed]"
          },
          "metadata": {}
        }
      ]
    },
    {
      "cell_type": "markdown",
      "source": [
        "Цікаво, що піки покупок спостерігаються в суботу (що виглядає цілком логічно, оскільки це вихідний) та у вівторок (можливо, його обирають як другий день в середині тижня, коли скупляються, або супермаркет пропонує свої знижки).\n",
        "\n",
        "Це можна використати для розуміння формування акційних пропозицій"
      ],
      "metadata": {
        "id": "A5c9qpTU3_VA"
      },
      "id": "A5c9qpTU3_VA"
    },
    {
      "cell_type": "markdown",
      "source": [
        "14.2 Який метод оплати використовують частіше? Чи є залежність від типу покупця, який здійснює покупку?"
      ],
      "metadata": {
        "id": "EZxViAxv4Zp0"
      },
      "id": "EZxViAxv4Zp0"
    },
    {
      "cell_type": "code",
      "source": [
        "supermarket_sales_df['Payment'].value_counts(normalize=True) * 100"
      ],
      "metadata": {
        "colab": {
          "base_uri": "https://localhost:8080/"
        },
        "id": "msA6GAIw36Jo",
        "outputId": "4e6c21f7-39cc-45d9-a5fc-c1cb427d60ff"
      },
      "id": "msA6GAIw36Jo",
      "execution_count": 55,
      "outputs": [
        {
          "output_type": "execute_result",
          "data": {
            "text/plain": [
              "Ewallet        34.5\n",
              "Cash           34.4\n",
              "Credit card    31.1\n",
              "Name: Payment, dtype: float64"
            ]
          },
          "metadata": {},
          "execution_count": 55
        }
      ]
    },
    {
      "cell_type": "markdown",
      "source": [
        "Ewallet та готівкою користуються трохи частіше, але можемо зробити висновок, що немає якогось чіткого виділення певного методу оплати"
      ],
      "metadata": {
        "id": "LzxDr8uM7Lnv"
      },
      "id": "LzxDr8uM7Lnv"
    },
    {
      "cell_type": "code",
      "source": [
        "supermarket_sales_df.pivot_table(\n",
        "    index='Customer type',\n",
        "    columns='Payment',\n",
        "    values='Invoice ID',\n",
        "    aggfunc='count'\n",
        ").style.background_gradient(axis=1)"
      ],
      "metadata": {
        "colab": {
          "base_uri": "https://localhost:8080/",
          "height": 143
        },
        "id": "FKqmCZFk2Ehw",
        "outputId": "091a2aba-313c-4894-c7c0-6e956e6a2681"
      },
      "id": "FKqmCZFk2Ehw",
      "execution_count": 53,
      "outputs": [
        {
          "output_type": "execute_result",
          "data": {
            "text/plain": [
              "<pandas.io.formats.style.Styler at 0x7f17d1208ac0>"
            ],
            "text/html": [
              "<style type=\"text/css\">\n",
              "#T_21091_row0_col0 {\n",
              "  background-color: #328dbf;\n",
              "  color: #f1f1f1;\n",
              "}\n",
              "#T_21091_row0_col1, #T_21091_row1_col2 {\n",
              "  background-color: #023858;\n",
              "  color: #f1f1f1;\n",
              "}\n",
              "#T_21091_row0_col2, #T_21091_row1_col1 {\n",
              "  background-color: #fff7fb;\n",
              "  color: #000000;\n",
              "}\n",
              "#T_21091_row1_col0 {\n",
              "  background-color: #04639b;\n",
              "  color: #f1f1f1;\n",
              "}\n",
              "</style>\n",
              "<table id=\"T_21091\" class=\"dataframe\">\n",
              "  <thead>\n",
              "    <tr>\n",
              "      <th class=\"index_name level0\" >Payment</th>\n",
              "      <th id=\"T_21091_level0_col0\" class=\"col_heading level0 col0\" >Cash</th>\n",
              "      <th id=\"T_21091_level0_col1\" class=\"col_heading level0 col1\" >Credit card</th>\n",
              "      <th id=\"T_21091_level0_col2\" class=\"col_heading level0 col2\" >Ewallet</th>\n",
              "    </tr>\n",
              "    <tr>\n",
              "      <th class=\"index_name level0\" >Customer type</th>\n",
              "      <th class=\"blank col0\" >&nbsp;</th>\n",
              "      <th class=\"blank col1\" >&nbsp;</th>\n",
              "      <th class=\"blank col2\" >&nbsp;</th>\n",
              "    </tr>\n",
              "  </thead>\n",
              "  <tbody>\n",
              "    <tr>\n",
              "      <th id=\"T_21091_level0_row0\" class=\"row_heading level0 row0\" >Member</th>\n",
              "      <td id=\"T_21091_row0_col0\" class=\"data row0 col0\" >168</td>\n",
              "      <td id=\"T_21091_row0_col1\" class=\"data row0 col1\" >172</td>\n",
              "      <td id=\"T_21091_row0_col2\" class=\"data row0 col2\" >161</td>\n",
              "    </tr>\n",
              "    <tr>\n",
              "      <th id=\"T_21091_level0_row1\" class=\"row_heading level0 row1\" >Normal</th>\n",
              "      <td id=\"T_21091_row1_col0\" class=\"data row1 col0\" >176</td>\n",
              "      <td id=\"T_21091_row1_col1\" class=\"data row1 col1\" >139</td>\n",
              "      <td id=\"T_21091_row1_col2\" class=\"data row1 col2\" >184</td>\n",
              "    </tr>\n",
              "  </tbody>\n",
              "</table>\n"
            ]
          },
          "metadata": {},
          "execution_count": 53
        }
      ]
    },
    {
      "cell_type": "markdown",
      "source": [
        "Цікаво, що звичайні покупці рідше використовують для оплати кредитку картку (на відміну від членів магазину та у порівнянні з іншими методами оплати). Члени приблизно однаково користуються кожним видом оплати"
      ],
      "metadata": {
        "id": "qve9yQid7KsT"
      },
      "id": "qve9yQid7KsT"
    },
    {
      "cell_type": "markdown",
      "source": [
        "14.3 Яку категорію товарів купують частіше з розбивкою на гендери"
      ],
      "metadata": {
        "id": "76HH1jSh8OJy"
      },
      "id": "76HH1jSh8OJy"
    },
    {
      "cell_type": "code",
      "source": [
        "(\n",
        "    supermarket_sales_df[supermarket_sales_df['Gender'] == 'Female']\n",
        "     ['Product line']\n",
        "    .value_counts()\n",
        "    .plot\n",
        "    .bar(\n",
        "        color=['#FFB6C1', '#FFDAB9', '#E1E6A3', '#87CEEB', '#ADD8E6', '#98FB98']\n",
        "        )\n",
        ");"
      ],
      "metadata": {
        "colab": {
          "base_uri": "https://localhost:8080/",
          "height": 589
        },
        "id": "-XzyzpIb5vFr",
        "outputId": "d53cdd63-1435-4ca5-c625-312b35eb6fa3"
      },
      "id": "-XzyzpIb5vFr",
      "execution_count": 63,
      "outputs": [
        {
          "output_type": "execute_result",
          "data": {
            "text/plain": [
              "<Axes: >"
            ]
          },
          "metadata": {},
          "execution_count": 63
        },
        {
          "output_type": "display_data",
          "data": {
            "text/plain": [
              "<Figure size 640x480 with 1 Axes>"
            ],
            "image/png": "[encoded data removed]"
          },
          "metadata": {}
        }
      ]
    },
    {
      "cell_type": "markdown",
      "source": [
        "Великі питаннячка до коректності даних, які ми отримали, бо щось жінки малувато купують товарів для краси і здоровʼя (менше, ніж чоловіки) – можливо, супермаркет не дуже гарний в цій категорії товарів і потрібно над чим попрацювати\n",
        "\n",
        "Бачимо, що жінки більше купують прикрас та продуктів – чи це відповідає концепсії магазину чи варто переглянути деякі товари?"
      ],
      "metadata": {
        "id": "g6KFDUGL-vlm"
      },
      "id": "g6KFDUGL-vlm"
    },
    {
      "cell_type": "code",
      "source": [
        "(\n",
        "    supermarket_sales_df[supermarket_sales_df['Gender'] == 'Male']\n",
        "     ['Product line']\n",
        "    .value_counts()\n",
        "    .plot\n",
        "    .bar(\n",
        "        color=['#FFB6C1', '#FFDAB9', '#E1E6A3', '#87CEEB', '#ADD8E6', '#98FB98']\n",
        "        )\n",
        ");"
      ],
      "metadata": {
        "colab": {
          "base_uri": "https://localhost:8080/",
          "height": 569
        },
        "id": "oEQoPeRE9Sel",
        "outputId": "94ade69a-942a-47f0-be7f-b9fb6b9c0619"
      },
      "id": "oEQoPeRE9Sel",
      "execution_count": 64,
      "outputs": [
        {
          "output_type": "display_data",
          "data": {
            "text/plain": [
              "<Figure size 640x480 with 1 Axes>"
            ],
            "image/png": "[encoded data removed]"
          },
          "metadata": {}
        }
      ]
    },
    {
      "cell_type": "markdown",
      "source": [
        "Чоловіки купують всі категорії товарів однаково часто."
      ],
      "metadata": {
        "id": "fPW3mr6n_auo"
      },
      "id": "fPW3mr6n_auo"
    },
    {
      "cell_type": "code",
      "source": [],
      "metadata": {
        "id": "0qRy7A2M_ekW"
      },
      "id": "0qRy7A2M_ekW",
      "execution_count": null,
      "outputs": []
    }
  ],
  "metadata": {
    "kernelspec": {
      "display_name": "Python 3 (ipykernel)",
      "language": "python",
      "name": "python3"
    },
    "language_info": {
      "codemirror_mode": {
        "name": "ipython",
        "version": 3
      },
      "file_extension": ".py",
      "mimetype": "text/x-python",
      "name": "python",
      "nbconvert_exporter": "python",
      "pygments_lexer": "ipython3",
      "version": "3.10.4"
    },
    "toc": {
      "base_numbering": 1,
      "nav_menu": {},
      "number_sections": true,
      "sideBar": true,
      "skip_h1_title": false,
      "title_cell": "Table of Contents",
      "title_sidebar": "Contents",
      "toc_cell": false,
      "toc_position": {},
      "toc_section_display": true,
      "toc_window_display": false
    },
    "vscode": {
      "interpreter": {
        "hash": "a6511e6b41b26ba86cca7483749cf4dd15bf137a2672e550741a656e19bba82e"
      }
    },
    "colab": {
      "provenance": []
    }
  },
  "nbformat": 4,
  "nbformat_minor": 5
}