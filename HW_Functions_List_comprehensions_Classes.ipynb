{
  "cells": [
    {
      "cell_type": "markdown",
      "id": "1846cdd5",
      "metadata": {
        "ExecuteTime": {
          "end_time": "2023-06-16T11:08:23.474987Z",
          "start_time": "2023-06-16T11:08:23.466341Z"
        },
        "id": "1846cdd5"
      },
      "source": [
        "В цьому наборі завдань попрацюємо з фукнціями, класами та list comprehensions.\n",
        "Нагадую синтаксис list comprehension\n",
        "- з умовою if:\n",
        "```\n",
        "newlist = [expression for item in iterable if condition == True]\n",
        "```\n",
        "\n",
        "- з умовою if...else:\n",
        "```\n",
        "newlist = [expression if condition == True else second_expression for item in iterable ]\n",
        "```"
      ]
    },
    {
      "cell_type": "markdown",
      "id": "306cbd4e",
      "metadata": {
        "ExecuteTime": {
          "end_time": "2023-06-15T10:01:54.759901Z",
          "start_time": "2023-06-15T10:01:54.754516Z"
        },
        "id": "306cbd4e"
      },
      "source": [
        "1.Задана функція `strange_func`.\n",
        "Запустіть цю функцію на обчислення всіх елементів зі списку `input_list`. Результат обчислень запишіть у `output_list` та виведіть `output_list` на екран.\n",
        "\n",
        "Реалізуйте прохід всіх елементів списку `input_list` через цикл та через `list comprehension` - двома способами окремо."
      ]
    },
    {
      "cell_type": "code",
      "execution_count": 2,
      "id": "b5bab760",
      "metadata": {
        "ExecuteTime": {
          "end_time": "2023-06-15T10:08:21.217301Z",
          "start_time": "2023-06-15T10:08:21.213956Z"
        },
        "id": "b5bab760"
      },
      "outputs": [],
      "source": [
        "def strange_func(number: int) -> str:\n",
        "    if number < 0:\n",
        "        return \"слон\"\n",
        "    else:\n",
        "        return \"жираф\""
      ]
    },
    {
      "cell_type": "code",
      "execution_count": 3,
      "id": "61d82a3e",
      "metadata": {
        "ExecuteTime": {
          "end_time": "2023-06-15T10:11:23.708950Z",
          "start_time": "2023-06-15T10:11:23.703596Z"
        },
        "id": "61d82a3e"
      },
      "outputs": [],
      "source": [
        "input_list = [14, -48, 26, 33, 50, 36, 47, -3, 32, -6, -39, -1, 14, -35, 31, -28, 32, 4, 33, 11, -7, 43, -5, 17, -33, -37, 45, -27, -29, 14]"
      ]
    },
    {
      "cell_type": "code",
      "execution_count": 5,
      "id": "8eb67fab",
      "metadata": {
        "colab": {
          "base_uri": "https://localhost:8080/"
        },
        "id": "8eb67fab",
        "outputId": "9f129d71-69ce-426f-b606-4db4e55f1285"
      },
      "outputs": [
        {
          "output_type": "stream",
          "name": "stdout",
          "text": [
            "['жираф', 'слон', 'жираф', 'жираф', 'жираф', 'жираф', 'жираф', 'слон', 'жираф', 'слон', 'слон', 'слон', 'жираф', 'слон', 'жираф', 'слон', 'жираф', 'жираф', 'жираф', 'жираф', 'слон', 'жираф', 'слон', 'жираф', 'слон', 'слон', 'жираф', 'слон', 'слон', 'жираф']\n"
          ]
        }
      ],
      "source": [
        "output_list_list = [strange_func(number) for number in input_list]\n",
        "print(output_list_list)"
      ]
    },
    {
      "cell_type": "code",
      "source": [
        "output_list_loop = []\n",
        "for number in input_list:\n",
        "  output_list_loop.append(strange_func(number))\n",
        "\n",
        "print(output_list_loop)"
      ],
      "metadata": {
        "colab": {
          "base_uri": "https://localhost:8080/"
        },
        "id": "g-8BvVSlAZV6",
        "outputId": "c0cbe77f-0045-4e95-f815-ad2d859142e5"
      },
      "id": "g-8BvVSlAZV6",
      "execution_count": 6,
      "outputs": [
        {
          "output_type": "stream",
          "name": "stdout",
          "text": [
            "['жираф', 'слон', 'жираф', 'жираф', 'жираф', 'жираф', 'жираф', 'слон', 'жираф', 'слон', 'слон', 'слон', 'жираф', 'слон', 'жираф', 'слон', 'жираф', 'жираф', 'жираф', 'жираф', 'слон', 'жираф', 'слон', 'жираф', 'слон', 'слон', 'жираф', 'слон', 'слон', 'жираф']\n"
          ]
        }
      ]
    },
    {
      "cell_type": "code",
      "source": [
        "output_list_list == output_list_loop"
      ],
      "metadata": {
        "colab": {
          "base_uri": "https://localhost:8080/"
        },
        "id": "aMGAVSywAmBP",
        "outputId": "a676a789-6786-4cd1-f232-c3149c581aea"
      },
      "id": "aMGAVSywAmBP",
      "execution_count": 7,
      "outputs": [
        {
          "output_type": "execute_result",
          "data": {
            "text/plain": [
              "True"
            ]
          },
          "metadata": {},
          "execution_count": 7
        }
      ]
    },
    {
      "cell_type": "markdown",
      "id": "39a81ffe",
      "metadata": {
        "ExecuteTime": {
          "end_time": "2023-06-15T10:11:44.344785Z",
          "start_time": "2023-06-15T10:11:44.338699Z"
        },
        "id": "39a81ffe"
      },
      "source": [
        "Очікуваний результат: ```['жираф', 'слон', 'жираф', 'жираф', 'жираф', 'жираф', 'жираф', 'слон', 'жираф', 'слон', 'слон', 'слон', 'жираф', 'слон', 'жираф', 'слон', 'жираф', 'жираф', 'жираф', 'жираф', 'слон', 'жираф', 'слон', 'жираф', 'слон', 'слон', 'жираф', 'слон', 'слон', 'жираф']```"
      ]
    },
    {
      "cell_type": "markdown",
      "id": "cd421b5b",
      "metadata": {
        "id": "cd421b5b"
      },
      "source": [
        "2.Напишіть функцію `custom_func`, яка приймає на вхід число, перевіряє, чи воно є цілочислельного типу, і якщо так, то перевіряє число на парність:\n",
        "- якщо парне - вертає це число в степені 3,\n",
        "- а якщо непарне - це число мінус 10.\n",
        "\n",
        "Якщо ж число на вході не цілочисельного типу, функція вертає 0.\n",
        "\n",
        "Запустіть цю функцію на обчислення всіх чисел зі списку `input_list`. Результат обчислень запишіть у `output_list` та виведіть `output_list` на екран.\n",
        "\n",
        "Реалізуйте прохід всіх чисел списку `input_list` через цикл та через `list comprehension` - двома способами окремо."
      ]
    },
    {
      "cell_type": "code",
      "execution_count": 11,
      "id": "384b00e0",
      "metadata": {
        "ExecuteTime": {
          "end_time": "2023-06-15T10:10:34.758320Z",
          "start_time": "2023-06-15T10:10:34.754358Z"
        },
        "id": "384b00e0"
      },
      "outputs": [],
      "source": [
        "c = [36, 11.1, 91, 93, 26, 12.3213, 69, 50, 58, 22, 77, 18, 24, 55, 11, 76, 10.111, 39, 49, 94, 34, 40, 13, 111.111, 26, 44, 11, 34, 30, 39, 84, 37, 16, 1]"
      ]
    },
    {
      "cell_type": "code",
      "execution_count": 12,
      "id": "a9220273",
      "metadata": {
        "id": "a9220273"
      },
      "outputs": [],
      "source": [
        "def custom_func(number: int) -> int:\n",
        "  if type(number) == int:\n",
        "    if number % 2 == 0:\n",
        "      return number ** 3\n",
        "    return number - 10\n",
        "  return 0"
      ]
    },
    {
      "cell_type": "code",
      "source": [
        "output_list_list = [custom_func(number) for number in c]\n",
        "print(output_list_list)"
      ],
      "metadata": {
        "colab": {
          "base_uri": "https://localhost:8080/"
        },
        "id": "P3wpWDm6BK1f",
        "outputId": "252c28a8-3b3e-4693-831a-c04dde3cb4f5"
      },
      "id": "P3wpWDm6BK1f",
      "execution_count": 13,
      "outputs": [
        {
          "output_type": "stream",
          "name": "stdout",
          "text": [
            "[46656, 0, 81, 83, 17576, 0, 59, 125000, 195112, 10648, 67, 5832, 13824, 45, 1, 438976, 0, 29, 39, 830584, 39304, 64000, 3, 0, 17576, 85184, 1, 39304, 27000, 29, 592704, 27, 4096, -9]\n"
          ]
        }
      ]
    },
    {
      "cell_type": "code",
      "source": [
        "output_list_loop = []\n",
        "\n",
        "for number in c:\n",
        "  output_list_loop.append(custom_func(number))\n",
        "\n",
        "print(output_list_loop)"
      ],
      "metadata": {
        "colab": {
          "base_uri": "https://localhost:8080/"
        },
        "id": "lWR9Kb6tKRDy",
        "outputId": "e88a6b18-5162-4da8-98be-4f1ac0ac80e9"
      },
      "id": "lWR9Kb6tKRDy",
      "execution_count": 14,
      "outputs": [
        {
          "output_type": "stream",
          "name": "stdout",
          "text": [
            "[46656, 0, 81, 83, 17576, 0, 59, 125000, 195112, 10648, 67, 5832, 13824, 45, 1, 438976, 0, 29, 39, 830584, 39304, 64000, 3, 0, 17576, 85184, 1, 39304, 27000, 29, 592704, 27, 4096, -9]\n"
          ]
        }
      ]
    },
    {
      "cell_type": "code",
      "source": [
        "output_list_loop == output_list_list"
      ],
      "metadata": {
        "colab": {
          "base_uri": "https://localhost:8080/"
        },
        "id": "8Psps_XFKfoG",
        "outputId": "a0ef4391-c396-47c2-8675-b1e3c271e177"
      },
      "id": "8Psps_XFKfoG",
      "execution_count": 15,
      "outputs": [
        {
          "output_type": "execute_result",
          "data": {
            "text/plain": [
              "True"
            ]
          },
          "metadata": {},
          "execution_count": 15
        }
      ]
    },
    {
      "cell_type": "markdown",
      "id": "e2723875",
      "metadata": {
        "ExecuteTime": {
          "end_time": "2023-06-15T10:04:46.583145Z",
          "start_time": "2023-06-15T10:04:46.577899Z"
        },
        "id": "e2723875"
      },
      "source": [
        "Очікуваний результат:\n",
        "```[46656, 0, 81, 83, 17576, 0, 59, 125000, 195112, 10648, 67, 5832, 13824, 45, 1, 438976, 0, 29, 39, 830584, 39304, 64000, 3, 0, 17576, 85184, 1, 39304, 27000, 29, 592704, 27, 4096, -9]```"
      ]
    },
    {
      "cell_type": "markdown",
      "id": "12db4919",
      "metadata": {
        "ExecuteTime": {
          "end_time": "2023-06-15T10:06:39.204299Z",
          "start_time": "2023-06-15T10:06:39.198232Z"
        },
        "id": "12db4919"
      },
      "source": [
        "Аби програмно порівняти ваш результат за очікуваним - використайте код нижче:"
      ]
    },
    {
      "cell_type": "code",
      "execution_count": 19,
      "id": "84c13de2",
      "metadata": {
        "ExecuteTime": {
          "end_time": "2023-06-15T10:06:16.137271Z",
          "start_time": "2023-06-15T10:06:16.131305Z"
        },
        "colab": {
          "base_uri": "https://localhost:8080/"
        },
        "id": "84c13de2",
        "outputId": "294633fb-7451-4d36-9f02-586c1db8f21c"
      },
      "outputs": [
        {
          "output_type": "execute_result",
          "data": {
            "text/plain": [
              "True"
            ]
          },
          "metadata": {},
          "execution_count": 19
        }
      ],
      "source": [
        "output_list_loop == [46656, 0, 81, 83, 17576, 0, 59, 125000, 195112, 10648, 67, 5832, 13824, 45, 1, 438976, 0, 29, 39, 830584, 39304, 64000, 3, 0, 17576, 85184, 1, 39304, 27000, 29, 592704, 27, 4096, -9]"
      ]
    },
    {
      "cell_type": "markdown",
      "id": "602e8fd8",
      "metadata": {
        "ExecuteTime": {
          "end_time": "2023-06-15T09:50:40.693543Z",
          "start_time": "2023-06-15T09:50:40.680059Z"
        },
        "id": "602e8fd8"
      },
      "source": [
        "3.Напишіть функцію, яка отримує список чисел і повертає інший список із квадратами чисел, які діляться на 2 із вихідного списку. Наприклад, якщо на вході список [1,2,3,4], то на виході буде список [4,8].\n",
        "\n",
        "Запустіть функцію на вхідних списках `numbers_1`, `numbers_2`, `numbers_3` та виведіть результат роботи фукнції на екран."
      ]
    },
    {
      "cell_type": "code",
      "execution_count": 21,
      "id": "4ed96c9d",
      "metadata": {
        "ExecuteTime": {
          "end_time": "2023-06-15T10:17:52.021673Z",
          "start_time": "2023-06-15T10:17:52.016216Z"
        },
        "id": "4ed96c9d"
      },
      "outputs": [],
      "source": [
        "numbers_1 = [1, 2, 3, 4, 5, 6, 7, 8, 9, 10]\n",
        "numbers_2 = [-18, 35, 50, 2, -39, 8, -39, -15, 14, -42]\n",
        "numbers_3 = [-3.1, 1.11, 3.48, 4.48, 4.68, -1.59, -1.8, 1.76, 4.7, 2.0]"
      ]
    },
    {
      "cell_type": "code",
      "execution_count": 20,
      "id": "d8b1a5d7",
      "metadata": {
        "id": "d8b1a5d7"
      },
      "outputs": [],
      "source": [
        "def square_list(list: list) -> list:\n",
        "  return [el ** 2 for el in list if el % 2 == 0]"
      ]
    },
    {
      "cell_type": "code",
      "source": [
        "print(square_list(numbers_1))\n",
        "print(square_list(numbers_2))\n",
        "print(square_list(numbers_3))"
      ],
      "metadata": {
        "colab": {
          "base_uri": "https://localhost:8080/"
        },
        "id": "8gAQmnHbLOoO",
        "outputId": "88c0fca1-e33a-49d1-959d-1492d00a969f"
      },
      "id": "8gAQmnHbLOoO",
      "execution_count": 24,
      "outputs": [
        {
          "output_type": "stream",
          "name": "stdout",
          "text": [
            "[4, 16, 36, 64, 100]\n",
            "[324, 2500, 4, 64, 196, 1764]\n",
            "[4.0]\n"
          ]
        }
      ]
    },
    {
      "cell_type": "markdown",
      "id": "96fead27",
      "metadata": {
        "ExecuteTime": {
          "end_time": "2023-06-15T10:18:22.220464Z",
          "start_time": "2023-06-15T10:18:22.215833Z"
        },
        "id": "96fead27"
      },
      "source": [
        "Очікуваний результат:\n",
        "\n",
        "```\n",
        "    [4, 16, 36, 64, 100]\n",
        "    [324, 2500, 4, 64, 196, 1764]\n",
        "    [4.0]\n",
        "```"
      ]
    },
    {
      "cell_type": "markdown",
      "id": "93830499",
      "metadata": {
        "id": "93830499"
      },
      "source": [
        "4. Наданий список фруктів. Запишіть у новий список лише ті фрукти, які містять у своїй назві літеру `a`. Виведіть фінальний список на екран.\n",
        "\n",
        "Виконайте завдання із використанням циклу, та через `list comprehension` - двома способами окремо.\n",
        "Увага! В цьому завданні логіку перевірки чи містить рядок літеру можна винести у функцію. Але якщо не виносити, то реалізація з `list comprehension` буде цікавішою :)"
      ]
    },
    {
      "cell_type": "code",
      "execution_count": 30,
      "id": "9d52d585",
      "metadata": {
        "ExecuteTime": {
          "end_time": "2023-06-16T11:04:38.519497Z",
          "start_time": "2023-06-16T11:04:38.489031Z"
        },
        "id": "9d52d585"
      },
      "outputs": [],
      "source": [
        "fruits = [\"apple\", \"banana\", \"cherry\", \"date\", \"elderberry\", \"fig\", \"grape\", \"honeydew\", \"indian prune\", \"jackfruit\", \"kiwi\", \"lemon\", \"mango\", \"nectarine\", \"orange\", \"pineapple\", \"quince\", \"raspberry\", \"strawberry\", \"tangerine\", \"ugli fruit\", \"victoria plum\", \"watermelon\", \"xigua\", \"yellow passionfruit\", \"zucchini\"]"
      ]
    },
    {
      "cell_type": "code",
      "execution_count": 31,
      "id": "e503441f",
      "metadata": {
        "colab": {
          "base_uri": "https://localhost:8080/"
        },
        "id": "e503441f",
        "outputId": "e29a226f-5919-4bbe-d3c1-7642785fb8b3"
      },
      "outputs": [
        {
          "output_type": "stream",
          "name": "stdout",
          "text": [
            "['apple', 'banana', 'date', 'grape', 'indian prune', 'jackfruit', 'mango', 'nectarine', 'orange', 'pineapple', 'raspberry', 'strawberry', 'tangerine', 'victoria plum', 'watermelon', 'xigua', 'yellow passionfruit']\n"
          ]
        }
      ],
      "source": [
        "fruits_a = [fruit for fruit in fruits if fruit.count('a') > 0]\n",
        "print(fruits_a)"
      ]
    },
    {
      "cell_type": "code",
      "source": [
        "fruits_a_loop = []\n",
        "\n",
        "for fruit in fruits:\n",
        "  if fruit.count('a') > 0:\n",
        "    fruits_a_loop.append(fruit)\n",
        "\n",
        "print(fruits_a_loop == fruits_a)"
      ],
      "metadata": {
        "colab": {
          "base_uri": "https://localhost:8080/"
        },
        "id": "yBI3b_EJLwu3",
        "outputId": "884dc2d0-7dde-4c04-f01c-b8819145a373"
      },
      "id": "yBI3b_EJLwu3",
      "execution_count": 32,
      "outputs": [
        {
          "output_type": "stream",
          "name": "stdout",
          "text": [
            "True\n"
          ]
        }
      ]
    },
    {
      "cell_type": "markdown",
      "id": "6eba3ce5",
      "metadata": {
        "ExecuteTime": {
          "end_time": "2023-06-16T11:12:20.070099Z",
          "start_time": "2023-06-16T11:12:20.065489Z"
        },
        "id": "6eba3ce5"
      },
      "source": [
        "5.Заданий список чисел. Створіть новий список на основі заданоо за наступною логікою\n",
        "- якщо число більше або дорівнює 45, то в новий список додаємо це число + 5. Наприклад, для числа 50 вихідного списку, в новий ми додамо число 55\n",
        "- інакше - це число - 4. Наприклад, для числа 30 вихідного списку, в новий ми додамо число 26\n",
        "\n",
        "Виведіть отриманий список на екран.\n",
        "\n",
        "Реалізуйте логіку через цикл та через `list comprehension` - двома способами окремо."
      ]
    },
    {
      "cell_type": "code",
      "execution_count": 35,
      "id": "64c30414",
      "metadata": {
        "ExecuteTime": {
          "end_time": "2023-06-16T11:13:01.047506Z",
          "start_time": "2023-06-16T11:13:01.044731Z"
        },
        "id": "64c30414"
      },
      "outputs": [],
      "source": [
        "input_list = [22, 13, 45, 50, 98, 69, 43, 44, 1]"
      ]
    },
    {
      "cell_type": "code",
      "execution_count": 36,
      "id": "0e3a8bcd",
      "metadata": {
        "colab": {
          "base_uri": "https://localhost:8080/"
        },
        "id": "0e3a8bcd",
        "outputId": "48a532dc-abd7-40cf-dd05-90f0ccd3fd02"
      },
      "outputs": [
        {
          "output_type": "stream",
          "name": "stdout",
          "text": [
            "[18, 9, 50, 55, 103, 74, 39, 40, -3]\n"
          ]
        }
      ],
      "source": [
        "output_list_list = [number + 5 if number >= 45 else number - 4 for number in input_list]\n",
        "print(output_list_list)"
      ]
    },
    {
      "cell_type": "code",
      "source": [
        "output_list_loop = []\n",
        "\n",
        "for number in input_list:\n",
        "  if number >= 45:\n",
        "    output_list_loop.append(number + 5)\n",
        "  else:\n",
        "    output_list_loop.append(number - 4)\n",
        "\n",
        "\n",
        "print(output_list_loop == output_list_list)"
      ],
      "metadata": {
        "colab": {
          "base_uri": "https://localhost:8080/"
        },
        "id": "ys_KlZ8GM3HD",
        "outputId": "5f5dfb03-a82c-4f70-de2a-bd78107f2c62"
      },
      "id": "ys_KlZ8GM3HD",
      "execution_count": 37,
      "outputs": [
        {
          "output_type": "stream",
          "name": "stdout",
          "text": [
            "True\n"
          ]
        }
      ]
    },
    {
      "cell_type": "markdown",
      "id": "3788acf1",
      "metadata": {
        "id": "3788acf1"
      },
      "source": [
        "6.Заданий список `input_list` з пропущеними значеннями. Напишіть логіку, за якою ми будемо створювати новий список такий, що якщо значення None, то ми замість нього вставляємо 0, інакше - елемент вихідного спику.\n",
        "Тобто зі списку [1, None, 2] за цією логікою ми отримаємо [1, 0, 2] у новому списку.\n",
        "\n",
        "Виведіть отриманий список на екран.\n",
        "\n",
        "Реалізуйте логіку через цикл та через list comprehension - двома способами окремо."
      ]
    },
    {
      "cell_type": "code",
      "execution_count": null,
      "id": "7124a4c2",
      "metadata": {
        "ExecuteTime": {
          "end_time": "2023-06-16T11:17:59.925084Z",
          "start_time": "2023-06-16T11:17:59.922391Z"
        },
        "id": "7124a4c2"
      },
      "outputs": [],
      "source": [
        "input_list = [22, None, 13, None, None, 45, 50, 98, None, 69, 43, 44, 1, None]"
      ]
    },
    {
      "cell_type": "code",
      "execution_count": 38,
      "id": "e7212a8c",
      "metadata": {
        "colab": {
          "base_uri": "https://localhost:8080/"
        },
        "id": "e7212a8c",
        "outputId": "e24e8c51-eabe-41d0-b08e-efd5a895dd38"
      },
      "outputs": [
        {
          "output_type": "execute_result",
          "data": {
            "text/plain": [
              "[22, 13, 45, 50, 98, 69, 43, 44, 1]"
            ]
          },
          "metadata": {},
          "execution_count": 38
        }
      ],
      "source": [
        "output_list_list = [number if number != None else 0 for number in input_list]\n",
        "output_list_list"
      ]
    },
    {
      "cell_type": "code",
      "source": [
        "output_list_loop = []\n",
        "\n",
        "for number in input_list:\n",
        "  if number != None:\n",
        "    output_list_loop.append(number)\n",
        "  else:\n",
        "    output_list_loop.append(0)\n",
        "\n",
        "\n",
        "output_list_loop == output_list_list"
      ],
      "metadata": {
        "colab": {
          "base_uri": "https://localhost:8080/"
        },
        "id": "BrheudF8NdIK",
        "outputId": "cfa66138-aac1-4fbf-ed9e-47e209f687f5"
      },
      "id": "BrheudF8NdIK",
      "execution_count": 39,
      "outputs": [
        {
          "output_type": "execute_result",
          "data": {
            "text/plain": [
              "True"
            ]
          },
          "metadata": {},
          "execution_count": 39
        }
      ]
    },
    {
      "cell_type": "markdown",
      "id": "6d491849",
      "metadata": {
        "id": "6d491849"
      },
      "source": [
        "7.Заданий клас, який описує коло та вміє рахувати площу кола по заданому радіусу. Створіть два кола з радіусами 5 і 11. Обчислість з допомогою функціоналу класу площі цих двох кіл і виведіть результати на екран."
      ]
    },
    {
      "cell_type": "code",
      "execution_count": 40,
      "id": "fa5b47ac",
      "metadata": {
        "ExecuteTime": {
          "end_time": "2023-06-16T11:36:33.504851Z",
          "start_time": "2023-06-16T11:36:33.498537Z"
        },
        "id": "fa5b47ac"
      },
      "outputs": [],
      "source": [
        "import math\n",
        "\n",
        "class Circle:\n",
        "    def __init__(self, radius):\n",
        "        self.radius = radius\n",
        "\n",
        "    def calculate_area(self):\n",
        "        return round(math.pi * self.radius ** 2, 2)"
      ]
    },
    {
      "cell_type": "code",
      "execution_count": 42,
      "id": "2bcdc94a",
      "metadata": {
        "colab": {
          "base_uri": "https://localhost:8080/"
        },
        "id": "2bcdc94a",
        "outputId": "9d554d57-f393-4720-9738-386eae1f70a1"
      },
      "outputs": [
        {
          "output_type": "stream",
          "name": "stdout",
          "text": [
            "78.54 380.13\n",
            "5 11\n"
          ]
        }
      ],
      "source": [
        "circle_1 = Circle(5)\n",
        "circle_2 = Circle(11)\n",
        "\n",
        "print(circle_1.calculate_area(), circle_2.calculate_area())\n",
        "print(circle_1.radius, circle_2.radius)"
      ]
    },
    {
      "cell_type": "markdown",
      "id": "430f698b",
      "metadata": {
        "id": "430f698b"
      },
      "source": [
        "8.Додайте в клас `Circle`, визначений в попередньому завданні, метод для обчислення периметра `calculate_perimeter` з округленням до двох цифр після коми. Периметр кола рахується за формулою `C = 2 · π · r`, де π - це значення числа Пі, яке ми можемо отримати з math.pi, а r - радіус кола. Спопіюйте визначення класу і додайте в нього новий метод. Після цього створіть нові кола з радіусами 5 і 11 та обчисліть їх периметри.\n",
        "Увага: нам треба додати новий метод, але ми нічого не видаляємо :)"
      ]
    },
    {
      "cell_type": "code",
      "execution_count": 43,
      "id": "681d590d",
      "metadata": {
        "ExecuteTime": {
          "end_time": "2023-06-16T12:09:08.436203Z",
          "start_time": "2023-06-16T12:09:08.429972Z"
        },
        "id": "681d590d"
      },
      "outputs": [],
      "source": [
        "class Circle:\n",
        "    def __init__(self, radius):\n",
        "        self.radius = radius\n",
        "\n",
        "    def calculate_area(self):\n",
        "        return round(math.pi * self.radius ** 2, 2)\n",
        "\n",
        "    def calculate_perimeter(self):\n",
        "        return round(2 * math.pi * self.radius, 2)"
      ]
    },
    {
      "cell_type": "code",
      "execution_count": 44,
      "id": "731544fd",
      "metadata": {
        "colab": {
          "base_uri": "https://localhost:8080/"
        },
        "id": "731544fd",
        "outputId": "167b0990-dede-43bc-c8fa-7260fdd816cc"
      },
      "outputs": [
        {
          "output_type": "stream",
          "name": "stdout",
          "text": [
            "31.42 69.12\n"
          ]
        }
      ],
      "source": [
        "circle_1 = Circle(5)\n",
        "circle_2 = Circle(11)\n",
        "\n",
        "print(circle_1.calculate_perimeter(), circle_2.calculate_perimeter())"
      ]
    },
    {
      "cell_type": "markdown",
      "id": "4a39e47f",
      "metadata": {
        "id": "4a39e47f"
      },
      "source": [
        "9.Створіть клас під назвою `Student`, який має два атрибути: `name` (ім'я) та `grade` (оцінка). Оцінкою може були літера - з набору  [\"F\", \"D\", \"C\", \"B\", \"A\"], де \"А\" - найвища оцінка, \"F\" - найнижча.  Клас повинен мати наступні функціональні можливості:\n",
        "\n",
        "1. Метод `__init__`, який ініціалізує `name` та `grade`.\n",
        "2. Метод `display_student()`, який відображає ім'я та оцінку студента з допомогою `print`. Форматування - на Ваш розсуд.\n",
        "3. Метод `upgrade_grade()`, який підвищує оцінку на 1 рівень (наприклад, з \"B\" на \"A\"), якщо вона вже не \"A\". Якщо вже \"А\", то необхідно вивести повідомлення про те, що оцінка не може бути підвищена, оскільки вона вже і так найвища.\n",
        "\n",
        "Після створення класу, створіть 2 екземпляри `Student` з вигаданими імʼями та оцінками, і перевірте роботу методів `display_student()` та `upgrade_grade()`. Виведіть результат перевірки на екран."
      ]
    },
    {
      "cell_type": "code",
      "execution_count": 51,
      "id": "51ef0571",
      "metadata": {
        "id": "51ef0571"
      },
      "outputs": [],
      "source": [
        "class Student:\n",
        "  def __init__(self, name, grade):\n",
        "    self.name = name\n",
        "    self.grade = grade\n",
        "\n",
        "  def display_student(self):\n",
        "    print(f'Student {self.name} has {self.grade}')\n",
        "\n",
        "  def upgrade_grade(self):\n",
        "    grades = [\"F\", \"D\", \"C\", \"B\", \"A\"]\n",
        "    if self.grade == 'A':\n",
        "      print('The mark is the highest one already!')\n",
        "    else:\n",
        "      self.grade = grades[grades.index(self.grade) + 1]\n",
        "      self.display_student()"
      ]
    },
    {
      "cell_type": "code",
      "source": [
        "student_1, student_2 = Student('Liza', 'A'), Student('Alex', 'D')\n",
        "student_1.display_student()\n",
        "student_2.display_student()"
      ],
      "metadata": {
        "colab": {
          "base_uri": "https://localhost:8080/"
        },
        "id": "QeMvDK4qQZZe",
        "outputId": "54286667-2771-4486-e761-af733596bc38"
      },
      "id": "QeMvDK4qQZZe",
      "execution_count": 52,
      "outputs": [
        {
          "output_type": "stream",
          "name": "stdout",
          "text": [
            "Student Liza has A\n",
            "Student Alex has D\n"
          ]
        }
      ]
    },
    {
      "cell_type": "code",
      "source": [
        "student_1.upgrade_grade()\n",
        "student_2.upgrade_grade()"
      ],
      "metadata": {
        "colab": {
          "base_uri": "https://localhost:8080/"
        },
        "id": "ehQ1duPHQqkn",
        "outputId": "c624ba15-9adf-434e-8369-cb5d98a886bb"
      },
      "id": "ehQ1duPHQqkn",
      "execution_count": 53,
      "outputs": [
        {
          "output_type": "stream",
          "name": "stdout",
          "text": [
            "The mark is the highest one already!\n",
            "Student Alex has C\n"
          ]
        }
      ]
    },
    {
      "cell_type": "markdown",
      "id": "fbf61911",
      "metadata": {
        "id": "fbf61911"
      },
      "source": [
        "10.Створіть клас з назвою `GraduateStudent`, який є нащадком класу `Student` з попереднього завдання.\n",
        "Клас `GraduateStudent` повинен мати додатковий атрибут `thesis_title` (назва дисертації - тип str). Тобто цей атрибут має зʼявитись при ініціації екземпляру класу.\n",
        "Він також повинен мати метод `display_thesis()`, який виводить назву дисертації.\n",
        "\n",
        "Після створення класу, створіть екземпляр `GraduateStudent` і перевірте роботу методів `display_student()`, `upgrade_grade()`, та `display_thesis()`. Виведіть результат перевірки на екран.\n",
        "\n"
      ]
    },
    {
      "cell_type": "code",
      "execution_count": 59,
      "id": "aafe9159",
      "metadata": {
        "id": "aafe9159"
      },
      "outputs": [],
      "source": [
        "class GraduateStudent(Student):\n",
        "  def __init__(self, name, grade, thesis_title):\n",
        "    super().__init__(name, grade)\n",
        "    self.thesis_title = thesis_title\n",
        "\n",
        "  def display_thesis(self):\n",
        "    return self.thesis_title"
      ]
    },
    {
      "cell_type": "code",
      "source": [
        "student_3 = GraduateStudent('Artem', 'B', 'Lego')\n",
        "student_3.display_student()\n",
        "student_3.upgrade_grade()\n",
        "student_3.display_thesis()"
      ],
      "metadata": {
        "colab": {
          "base_uri": "https://localhost:8080/",
          "height": 70
        },
        "id": "7D76vSclRpn2",
        "outputId": "fc986478-5187-47d5-a5a0-9871d2a00f8c"
      },
      "id": "7D76vSclRpn2",
      "execution_count": 61,
      "outputs": [
        {
          "output_type": "stream",
          "name": "stdout",
          "text": [
            "Student Artem has B\n",
            "Student Artem has A\n"
          ]
        },
        {
          "output_type": "execute_result",
          "data": {
            "text/plain": [
              "'Lego'"
            ],
            "application/vnd.google.colaboratory.intrinsic+json": {
              "type": "string"
            }
          },
          "metadata": {},
          "execution_count": 61
        }
      ]
    },
    {
      "cell_type": "code",
      "source": [],
      "metadata": {
        "id": "Pit2zrWLSDeu"
      },
      "id": "Pit2zrWLSDeu",
      "execution_count": null,
      "outputs": []
    }
  ],
  "metadata": {
    "kernelspec": {
      "display_name": "Python 3 (ipykernel)",
      "language": "python",
      "name": "python3"
    },
    "language_info": {
      "codemirror_mode": {
        "name": "ipython",
        "version": 3
      },
      "file_extension": ".py",
      "mimetype": "text/x-python",
      "name": "python",
      "nbconvert_exporter": "python",
      "pygments_lexer": "ipython3",
      "version": "3.10.4"
    },
    "toc": {
      "base_numbering": 1,
      "nav_menu": {},
      "number_sections": true,
      "sideBar": true,
      "skip_h1_title": false,
      "title_cell": "Table of Contents",
      "title_sidebar": "Contents",
      "toc_cell": false,
      "toc_position": {},
      "toc_section_display": true,
      "toc_window_display": false
    },
    "colab": {
      "provenance": []
    }
  },
  "nbformat": 4,
  "nbformat_minor": 5
}