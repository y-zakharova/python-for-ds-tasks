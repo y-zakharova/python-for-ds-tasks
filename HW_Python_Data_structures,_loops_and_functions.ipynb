{
  "cells": [
    {
      "cell_type": "markdown",
      "id": "69f335e6",
      "metadata": {
        "id": "69f335e6"
      },
      "source": [
        "1.Створіть множину (set) з наведеного спиcку та виведіть результат на екран. Чим відрізняється множина від списку?"
      ]
    },
    {
      "cell_type": "code",
      "execution_count": 2,
      "id": "aaeecf7e",
      "metadata": {
        "ExecuteTime": {
          "end_time": "2023-02-16T17:21:34.172161Z",
          "start_time": "2023-02-16T17:21:34.150021Z"
        },
        "id": "aaeecf7e"
      },
      "outputs": [],
      "source": [
        "input_list =  ['boat', 'bus', 'plane', 'train', 'boat', 'autobus', 'bus']"
      ]
    },
    {
      "cell_type": "code",
      "execution_count": 3,
      "id": "61d218e2",
      "metadata": {
        "colab": {
          "base_uri": "https://localhost:8080/"
        },
        "id": "61d218e2",
        "outputId": "670558aa-0897-42dd-e329-99b9938c7207"
      },
      "outputs": [
        {
          "output_type": "stream",
          "name": "stdout",
          "text": [
            "{'plane', 'boat', 'bus', 'train', 'autobus'}\n"
          ]
        }
      ],
      "source": [
        "print(set(input_list))"
      ]
    },
    {
      "cell_type": "markdown",
      "id": "d2dd9987",
      "metadata": {
        "id": "d2dd9987"
      },
      "source": [
        "Множина містить невпорядковані унікальні елементи. Список - це спорядкований набір будь-яких елементів."
      ]
    },
    {
      "cell_type": "markdown",
      "id": "5c7babdc",
      "metadata": {
        "id": "5c7babdc"
      },
      "source": [
        "2.Виведіть окремо ключі та окремо значення двома окремими списками наступного словника:"
      ]
    },
    {
      "cell_type": "code",
      "execution_count": 4,
      "id": "a00df81d",
      "metadata": {
        "ExecuteTime": {
          "end_time": "2023-02-16T17:32:23.162298Z",
          "start_time": "2023-02-16T17:32:23.152250Z"
        },
        "id": "a00df81d"
      },
      "outputs": [],
      "source": [
        "light_signals = {'green': 'go', 'yellow': 'get ready', 'red': 'stop'}"
      ]
    },
    {
      "cell_type": "code",
      "execution_count": 5,
      "id": "dc2cc322",
      "metadata": {
        "colab": {
          "base_uri": "https://localhost:8080/"
        },
        "id": "dc2cc322",
        "outputId": "1b36febe-b31d-45ff-d5dc-9dc2e1e83da4"
      },
      "outputs": [
        {
          "output_type": "execute_result",
          "data": {
            "text/plain": [
              "(dict_keys(['green', 'yellow', 'red']),\n",
              " dict_items([('green', 'go'), ('yellow', 'get ready'), ('red', 'stop')]))"
            ]
          },
          "metadata": {},
          "execution_count": 5
        }
      ],
      "source": [
        "light_signals.keys(), light_signals.items()"
      ]
    },
    {
      "cell_type": "markdown",
      "id": "0883eb80",
      "metadata": {
        "ExecuteTime": {
          "end_time": "2023-02-16T16:25:21.907981Z",
          "start_time": "2023-02-16T16:25:21.902740Z"
        },
        "id": "0883eb80"
      },
      "source": [
        "3.Напишіть фрагмент коду, що формує список всіх чисел між 1200 і 2700 (обидва включаючи), які деляться на 7 АБО на 5 без остачі. Виведіть результуючий список на екран."
      ]
    },
    {
      "cell_type": "code",
      "execution_count": 8,
      "id": "e4587789",
      "metadata": {
        "colab": {
          "base_uri": "https://localhost:8080/"
        },
        "id": "e4587789",
        "outputId": "a63bf084-3378-4e15-b6c2-a0cc68df9a3a"
      },
      "outputs": [
        {
          "output_type": "stream",
          "name": "stdout",
          "text": [
            "[1200, 1204, 1205, 1210, 1211, 1215, 1218, 1220, 1225, 1230, 1232, 1235, 1239, 1240, 1245, 1246, 1250, 1253, 1255, 1260, 1265, 1267, 1270, 1274, 1275, 1280, 1281, 1285, 1288, 1290, 1295, 1300, 1302, 1305, 1309, 1310, 1315, 1316, 1320, 1323, 1325, 1330, 1335, 1337, 1340, 1344, 1345, 1350, 1351, 1355, 1358, 1360, 1365, 1370, 1372, 1375, 1379, 1380, 1385, 1386, 1390, 1393, 1395, 1400, 1405, 1407, 1410, 1414, 1415, 1420, 1421, 1425, 1428, 1430, 1435, 1440, 1442, 1445, 1449, 1450, 1455, 1456, 1460, 1463, 1465, 1470, 1475, 1477, 1480, 1484, 1485, 1490, 1491, 1495, 1498, 1500, 1505, 1510, 1512, 1515, 1519, 1520, 1525, 1526, 1530, 1533, 1535, 1540, 1545, 1547, 1550, 1554, 1555, 1560, 1561, 1565, 1568, 1570, 1575, 1580, 1582, 1585, 1589, 1590, 1595, 1596, 1600, 1603, 1605, 1610, 1615, 1617, 1620, 1624, 1625, 1630, 1631, 1635, 1638, 1640, 1645, 1650, 1652, 1655, 1659, 1660, 1665, 1666, 1670, 1673, 1675, 1680, 1685, 1687, 1690, 1694, 1695, 1700, 1701, 1705, 1708, 1710, 1715, 1720, 1722, 1725, 1729, 1730, 1735, 1736, 1740, 1743, 1745, 1750, 1755, 1757, 1760, 1764, 1765, 1770, 1771, 1775, 1778, 1780, 1785, 1790, 1792, 1795, 1799, 1800, 1805, 1806, 1810, 1813, 1815, 1820, 1825, 1827, 1830, 1834, 1835, 1840, 1841, 1845, 1848, 1850, 1855, 1860, 1862, 1865, 1869, 1870, 1875, 1876, 1880, 1883, 1885, 1890, 1895, 1897, 1900, 1904, 1905, 1910, 1911, 1915, 1918, 1920, 1925, 1930, 1932, 1935, 1939, 1940, 1945, 1946, 1950, 1953, 1955, 1960, 1965, 1967, 1970, 1974, 1975, 1980, 1981, 1985, 1988, 1990, 1995, 2000, 2002, 2005, 2009, 2010, 2015, 2016, 2020, 2023, 2025, 2030, 2035, 2037, 2040, 2044, 2045, 2050, 2051, 2055, 2058, 2060, 2065, 2070, 2072, 2075, 2079, 2080, 2085, 2086, 2090, 2093, 2095, 2100, 2105, 2107, 2110, 2114, 2115, 2120, 2121, 2125, 2128, 2130, 2135, 2140, 2142, 2145, 2149, 2150, 2155, 2156, 2160, 2163, 2165, 2170, 2175, 2177, 2180, 2184, 2185, 2190, 2191, 2195, 2198, 2200, 2205, 2210, 2212, 2215, 2219, 2220, 2225, 2226, 2230, 2233, 2235, 2240, 2245, 2247, 2250, 2254, 2255, 2260, 2261, 2265, 2268, 2270, 2275, 2280, 2282, 2285, 2289, 2290, 2295, 2296, 2300, 2303, 2305, 2310, 2315, 2317, 2320, 2324, 2325, 2330, 2331, 2335, 2338, 2340, 2345, 2350, 2352, 2355, 2359, 2360, 2365, 2366, 2370, 2373, 2375, 2380, 2385, 2387, 2390, 2394, 2395, 2400, 2401, 2405, 2408, 2410, 2415, 2420, 2422, 2425, 2429, 2430, 2435, 2436, 2440, 2443, 2445, 2450, 2455, 2457, 2460, 2464, 2465, 2470, 2471, 2475, 2478, 2480, 2485, 2490, 2492, 2495, 2499, 2500, 2505, 2506, 2510, 2513, 2515, 2520, 2525, 2527, 2530, 2534, 2535, 2540, 2541, 2545, 2548, 2550, 2555, 2560, 2562, 2565, 2569, 2570, 2575, 2576, 2580, 2583, 2585, 2590, 2595, 2597, 2600, 2604, 2605, 2610, 2611, 2615, 2618, 2620, 2625, 2630, 2632, 2635, 2639, 2640, 2645, 2646, 2650, 2653, 2655, 2660, 2665, 2667, 2670, 2674, 2675, 2680, 2681, 2685, 2688, 2690, 2695, 2700]\n"
          ]
        }
      ],
      "source": [
        "print([i for i in range(1200, 2701) if (i % 5 == 0 or i % 7 == 0)])"
      ]
    },
    {
      "cell_type": "markdown",
      "id": "83ec4846",
      "metadata": {
        "ExecuteTime": {
          "end_time": "2023-02-16T16:28:06.826641Z",
          "start_time": "2023-02-16T16:28:06.822293Z"
        },
        "id": "83ec4846"
      },
      "source": [
        "4.Напишіть функцію, яка для заданого цілого числа виводить на екран наступну фігуру. Підказка - тут треба використати вкладені цикли for. Наприклад, для `n=5` фігура матиме наступний вигляд:\n",
        "\n",
        "```\n",
        "* \n",
        "* * \n",
        "* * * \n",
        "* * * * \n",
        "* * * * * \n",
        "* * * * \n",
        "* * * \n",
        "* * \n",
        "*\n",
        "```\n",
        "\n",
        "Запустіть фукнцію для значень n: 3, 5, 10."
      ]
    },
    {
      "cell_type": "code",
      "execution_count": 3,
      "id": "0bd87693",
      "metadata": {
        "id": "0bd87693"
      },
      "outputs": [],
      "source": [
        "def figure(n: int):\n",
        "  for i in range(n):\n",
        "    print('*' * i)\n",
        "  for i in range(n, 0, -1):\n",
        "    print('*' * i)"
      ]
    },
    {
      "cell_type": "code",
      "source": [
        "figure(7)"
      ],
      "metadata": {
        "colab": {
          "base_uri": "https://localhost:8080/"
        },
        "id": "RtFBbeEa7DZn",
        "outputId": "b318e4d0-bbfe-4f8c-8043-939292e54304"
      },
      "id": "RtFBbeEa7DZn",
      "execution_count": 6,
      "outputs": [
        {
          "output_type": "stream",
          "name": "stdout",
          "text": [
            "\n",
            "*\n",
            "**\n",
            "***\n",
            "****\n",
            "*****\n",
            "******\n",
            "*******\n",
            "******\n",
            "*****\n",
            "****\n",
            "***\n",
            "**\n",
            "*\n"
          ]
        }
      ]
    },
    {
      "cell_type": "markdown",
      "id": "ce6f1afc",
      "metadata": {
        "id": "ce6f1afc"
      },
      "source": [
        "5.Напишіть функцію, яка вертає кількість парних та непарних чисел у наданому масиві. Функція має вертати два числа, а після функції створіть повідомлення, яке прописує, скільки було парних та непарних чисел у масиві. \n",
        "Приклад: для наступного входу\n",
        "```\n",
        "numbers = (1, 2, 11, 12, 13, 22, 27, 29) \n",
        "```\n",
        "Функція має повернути результат: `3, 5`.\n",
        "І далі Вам необхідно сформувати повідомлення, яке виведе наступне, використовуючи результат функції:\n",
        "```\n",
        "Кількість парних чисел : 3\n",
        "Кількість непарних : 5\n",
        "```\n",
        "Запустіть алгоритм функція+друк повідомлення для трьох наведених списків. Найзручніше це зробити, пройшовши по спискам у циклі."
      ]
    },
    {
      "cell_type": "code",
      "execution_count": 21,
      "id": "ca9634e0",
      "metadata": {
        "ExecuteTime": {
          "end_time": "2023-02-16T17:12:55.787310Z",
          "start_time": "2023-02-16T17:12:55.779497Z"
        },
        "id": "ca9634e0"
      },
      "outputs": [],
      "source": [
        "numbers_1 = {1, 2, 11, 12, 13, 22, 27, 29}\n",
        "numbers_2 = {1, 22, 412, 312, 73, 3421}\n",
        "numbers_3 = {12, 11, 94, 722, 0, 452}"
      ]
    },
    {
      "cell_type": "code",
      "execution_count": 22,
      "id": "42c3fd1e",
      "metadata": {
        "id": "42c3fd1e"
      },
      "outputs": [],
      "source": [
        "def odd_even(list):\n",
        "  even = len([i for i in list if i % 2 == 0])\n",
        "  odd = len([i for i in list if i % 2 != 0])\n",
        "  return even, odd"
      ]
    },
    {
      "cell_type": "code",
      "source": [
        "for list in (numbers_1, numbers_2, numbers_3):\n",
        "  print(list)\n",
        "  odd_even_n = odd_even(list)\n",
        "  print(f'Кількість парних чисел: {odd_even_n[0]}')\n",
        "  print(f'Кількість непарних чисел: {odd_even_n[1]}\\n')"
      ],
      "metadata": {
        "colab": {
          "base_uri": "https://localhost:8080/"
        },
        "id": "q3nSUWKH7t61",
        "outputId": "db6afb91-b2ee-4b1d-8800-00eb658cda6d"
      },
      "id": "q3nSUWKH7t61",
      "execution_count": 25,
      "outputs": [
        {
          "output_type": "stream",
          "name": "stdout",
          "text": [
            "{1, 2, 11, 12, 13, 22, 27, 29}\n",
            "Кількість парних чисел: 3\n",
            "Кількість непарних чисел: 5\n",
            "\n",
            "{1, 22, 312, 73, 412, 3421}\n",
            "Кількість парних чисел: 3\n",
            "Кількість непарних чисел: 3\n",
            "\n",
            "{0, 722, 452, 11, 12, 94}\n",
            "Кількість парних чисел: 5\n",
            "Кількість непарних чисел: 1\n",
            "\n"
          ]
        }
      ]
    },
    {
      "cell_type": "markdown",
      "id": "dad0c565",
      "metadata": {
        "ExecuteTime": {
          "end_time": "2023-02-16T16:55:03.692657Z",
          "start_time": "2023-02-16T16:55:03.646268Z"
        },
        "id": "dad0c565"
      },
      "source": [
        "6.Напишіть функцію, яка приймає на вхід список з назвами чогось та формує і виводить на екран повідомлення, у якому є всі елементи списку, а перед останнім елементом вставлено слово `and` (приклад - далі). Функція має працювати з будь-якими списками, довжина яких є більшою або рівною 2. Наприклад, для списку \n",
        "```\n",
        "cities = ['Budapest', 'Rome', 'Istanbul', 'Sydney', 'Kyiv']\n",
        "```\n",
        "функція має виводити на екран фразу:\n",
        "```\n",
        "'Budapest, Rome, Istanbul, Sydney and Kyiv'\n",
        "``` \n",
        "Запустіть функцію на списках наведених нижче. Для останнього списку має виводитись помилка (exception) або повідомлення про те, що довжина списку має бути як мінімум 2."
      ]
    },
    {
      "cell_type": "code",
      "execution_count": 27,
      "id": "530c7eb0",
      "metadata": {
        "ExecuteTime": {
          "end_time": "2023-02-16T17:04:38.117972Z",
          "start_time": "2023-02-16T17:04:38.112979Z"
        },
        "id": "530c7eb0"
      },
      "outputs": [],
      "source": [
        "list1 = ['Budapest', 'Rome', 'Istanbul', 'Sydney', 'Kyiv']\n",
        "list2 = ['USA', 'UK', 'Ukraine']\n",
        "list3 = ['apples', 'oranges']\n",
        "list4 = ['Titan']"
      ]
    },
    {
      "cell_type": "code",
      "execution_count": 39,
      "id": "e376d538",
      "metadata": {
        "id": "e376d538"
      },
      "outputs": [],
      "source": [
        "def print_names(list):\n",
        "  string = ''\n",
        "  try:\n",
        "    assert len(list) >= 2\n",
        "    for i in range(len(list)):\n",
        "      if i != len(list) - 2 and i != len(list) - 1:\n",
        "        string += list[i] + ', '\n",
        "      elif i == len(list) - 2:\n",
        "        string += list[i] + ' and '\n",
        "      else:\n",
        "        string += list[i] + ''\n",
        "  except:\n",
        "    string = 'Wrong length of list'\n",
        "  return string"
      ]
    },
    {
      "cell_type": "code",
      "source": [
        "for lists in (list1, list2, list3, list4):\n",
        "  print(print_names(lists))"
      ],
      "metadata": {
        "colab": {
          "base_uri": "https://localhost:8080/"
        },
        "id": "nBRbJzsv-OSP",
        "outputId": "af50842b-5767-4a5f-c9be-f4a1b2601840"
      },
      "id": "nBRbJzsv-OSP",
      "execution_count": 40,
      "outputs": [
        {
          "output_type": "stream",
          "name": "stdout",
          "text": [
            "Budapest, Rome, Istanbul, Sydney and Kyiv\n",
            "USA, UK and Ukraine\n",
            "apples and oranges\n",
            "Wrong length of list\n"
          ]
        }
      ]
    },
    {
      "cell_type": "markdown",
      "id": "5093dbef",
      "metadata": {
        "id": "5093dbef"
      },
      "source": [
        "7.Уявіть, що Ви створюєте пригодницьку гру і використовуєте для зберігання предметів гравця словник, у якому ключі - це назви предметів, значення - кількість одиниць кожної із речей. Наприклад, словник може виглядати так: things = {'ключ': 3, 'булава': 1, 'монета': 24, 'ніж': 1, 'горішки': 10, 'бронежелет': 0}. Створіть фукнцію, яка виводить повідомлення про усі речі гравця у такому вигляді:\n",
        "\n",
        "```\n",
        "У гравця є:\n",
        "3 ключ\n",
        "1 булава\n",
        "24 монета\n",
        "1 ніж\n",
        "10 горішки\n",
        "0 бронежелет\n",
        "Загальна кількість речей: 39\n",
        "```\n",
        "\n",
        "Викличіть фукнцію для наступних гравців:"
      ]
    },
    {
      "cell_type": "code",
      "execution_count": 43,
      "id": "f77ec586",
      "metadata": {
        "ExecuteTime": {
          "end_time": "2023-02-16T17:29:01.280430Z",
          "start_time": "2023-02-16T17:29:01.236841Z"
        },
        "id": "f77ec586"
      },
      "outputs": [],
      "source": [
        "player_1 = {'ключ': 3, 'булава': 1, 'монета': 24, 'ніж': 1, 'горішки': 10, 'бронежелет': 0}\n",
        "player_2 = {'ключ': 0, 'булава': 2, 'монета': 4, 'ніж': 3, 'горішки': 4, 'бронежелет': 1}\n",
        "player_3 = {'ключ': 0, 'булава': 0, 'монета': 30, 'ніж': 0, 'горішки': 2, 'бронежелет': 2}"
      ]
    },
    {
      "cell_type": "code",
      "execution_count": 41,
      "id": "94d669f9",
      "metadata": {
        "id": "94d669f9"
      },
      "outputs": [],
      "source": [
        "def player_things(player: dict):\n",
        "  print('У гравця є:')\n",
        "  total = 0\n",
        "  for key, item in player.items():\n",
        "    total += item\n",
        "    print(item, key)\n",
        "  print(f'Загальна кількість речей: {total}')"
      ]
    },
    {
      "cell_type": "code",
      "source": [
        "for player in (player_1, player_2, player_3):\n",
        "  player_things(player)\n",
        "  print()"
      ],
      "metadata": {
        "colab": {
          "base_uri": "https://localhost:8080/"
        },
        "id": "ow9k5U3UAb3U",
        "outputId": "8439a861-ad0c-4602-b298-4f3d1132d5ea"
      },
      "id": "ow9k5U3UAb3U",
      "execution_count": 44,
      "outputs": [
        {
          "output_type": "stream",
          "name": "stdout",
          "text": [
            "У гравця є:\n",
            "3 ключ\n",
            "1 булава\n",
            "24 монета\n",
            "1 ніж\n",
            "10 горішки\n",
            "0 бронежелет\n",
            "Загальна кількість речей: 39\n",
            "\n",
            "У гравця є:\n",
            "0 ключ\n",
            "2 булава\n",
            "4 монета\n",
            "3 ніж\n",
            "4 горішки\n",
            "1 бронежелет\n",
            "Загальна кількість речей: 14\n",
            "\n",
            "У гравця є:\n",
            "0 ключ\n",
            "0 булава\n",
            "30 монета\n",
            "0 ніж\n",
            "2 горішки\n",
            "2 бронежелет\n",
            "Загальна кількість речей: 34\n",
            "\n"
          ]
        }
      ]
    },
    {
      "cell_type": "code",
      "source": [],
      "metadata": {
        "id": "AG8ake8GAjqQ"
      },
      "id": "AG8ake8GAjqQ",
      "execution_count": null,
      "outputs": []
    }
  ],
  "metadata": {
    "kernelspec": {
      "display_name": "Python 3 (ipykernel)",
      "language": "python",
      "name": "python3"
    },
    "language_info": {
      "codemirror_mode": {
        "name": "ipython",
        "version": 3
      },
      "file_extension": ".py",
      "mimetype": "text/x-python",
      "name": "python",
      "nbconvert_exporter": "python",
      "pygments_lexer": "ipython3",
      "version": "3.10.4"
    },
    "toc": {
      "base_numbering": 1,
      "nav_menu": {},
      "number_sections": true,
      "sideBar": true,
      "skip_h1_title": false,
      "title_cell": "Table of Contents",
      "title_sidebar": "Contents",
      "toc_cell": false,
      "toc_position": {},
      "toc_section_display": true,
      "toc_window_display": false
    },
    "colab": {
      "provenance": []
    }
  },
  "nbformat": 4,
  "nbformat_minor": 5
}